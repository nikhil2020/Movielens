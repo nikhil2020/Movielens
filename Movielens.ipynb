{
  "nbformat": 4,
  "nbformat_minor": 0,
  "metadata": {
    "kernelspec": {
      "display_name": "Python 3",
      "language": "python",
      "name": "python3"
    },
    "language_info": {
      "codemirror_mode": {
        "name": "ipython",
        "version": 3
      },
      "file_extension": ".py",
      "mimetype": "text/x-python",
      "name": "python",
      "nbconvert_exporter": "python",
      "pygments_lexer": "ipython3",
      "version": "3.6.8"
    },
    "colab": {
      "name": "Movielens.ipynb",
      "provenance": [],
      "toc_visible": true,
      "include_colab_link": true
    },
    "accelerator": "GPU"
  },
  "cells": [
    {
      "cell_type": "markdown",
      "metadata": {
        "id": "view-in-github",
        "colab_type": "text"
      },
      "source": [
        "<a href=\"https://colab.research.google.com/github/nikhil2020/Movielens/blob/master/Movielens.ipynb\" target=\"_parent\"><img src=\"https://colab.research.google.com/assets/colab-badge.svg\" alt=\"Open In Colab\"/></a>"
      ]
    },
    {
      "cell_type": "markdown",
      "metadata": {
        "id": "MXSM7VmURii1",
        "colab_type": "text"
      },
      "source": [
        "\n",
        "#  Movielens Dataset Analysis\n"
      ]
    },
    {
      "cell_type": "code",
      "metadata": {
        "id": "tA922mFXRmnG",
        "colab_type": "code",
        "colab": {}
      },
      "source": [
        ""
      ],
      "execution_count": null,
      "outputs": []
    },
    {
      "cell_type": "code",
      "metadata": {
        "id": "1p8m5vZZRuZr",
        "colab_type": "code",
        "colab": {
          "base_uri": "https://localhost:8080/",
          "height": 122
        },
        "outputId": "adfe3ceb-515b-4ce9-cc25-c2098acc8d21"
      },
      "source": [
        "from google.colab import drive\n",
        "drive.mount('/content/drive')"
      ],
      "execution_count": null,
      "outputs": [
        {
          "output_type": "stream",
          "text": [
            "Go to this URL in a browser: https://accounts.google.com/o/oauth2/auth?client_id=947318989803-6bn6qk8qdgf4n4g3pfee6491hc0brc4i.apps.googleusercontent.com&redirect_uri=urn%3aietf%3awg%3aoauth%3a2.0%3aoob&response_type=code&scope=email%20https%3a%2f%2fwww.googleapis.com%2fauth%2fdocs.test%20https%3a%2f%2fwww.googleapis.com%2fauth%2fdrive%20https%3a%2f%2fwww.googleapis.com%2fauth%2fdrive.photos.readonly%20https%3a%2f%2fwww.googleapis.com%2fauth%2fpeopleapi.readonly\n",
            "\n",
            "Enter your authorization code:\n",
            "··········\n",
            "Mounted at /content/drive\n"
          ],
          "name": "stdout"
        }
      ]
    },
    {
      "cell_type": "code",
      "metadata": {
        "id": "9MWfaiqtRnIc",
        "colab_type": "code",
        "colab": {
          "base_uri": "https://localhost:8080/",
          "height": 37
        },
        "outputId": "b462681e-7044-4a68-b254-f095321b3418"
      },
      "source": [
        "pwd"
      ],
      "execution_count": null,
      "outputs": [
        {
          "output_type": "execute_result",
          "data": {
            "application/vnd.google.colaboratory.intrinsic": {
              "type": "string"
            },
            "text/plain": [
              "'/content'"
            ]
          },
          "metadata": {
            "tags": []
          },
          "execution_count": 2
        }
      ]
    },
    {
      "cell_type": "code",
      "metadata": {
        "id": "clvvWxDdTEWB",
        "colab_type": "code",
        "colab": {}
      },
      "source": [
        "import os\n",
        "os.chdir(\"/content/drive/My Drive/Datasets/MovieLens\")"
      ],
      "execution_count": null,
      "outputs": []
    },
    {
      "cell_type": "markdown",
      "metadata": {
        "id": "Qh9Kw6YcRii6",
        "colab_type": "text"
      },
      "source": [
        "# Importing the libraries"
      ]
    },
    {
      "cell_type": "code",
      "metadata": {
        "id": "A9KJbyP_Rii9",
        "colab_type": "code",
        "colab": {}
      },
      "source": [
        "import numpy as np\n",
        "import pandas as pd \n",
        "import matplotlib.pyplot as plt\n",
        "import warnings\n",
        "warnings.filterwarnings('ignore')\n",
        "import seaborn as sns"
      ],
      "execution_count": null,
      "outputs": []
    },
    {
      "cell_type": "markdown",
      "metadata": {
        "id": "kwFynV5sRijK",
        "colab_type": "text"
      },
      "source": [
        "### Importing the movies.dat dataset"
      ]
    },
    {
      "cell_type": "code",
      "metadata": {
        "id": "zbi8L-IARijM",
        "colab_type": "code",
        "colab": {}
      },
      "source": [
        "dbmovies = pd.read_table('movies.dat',sep = '::',header = None)"
      ],
      "execution_count": null,
      "outputs": []
    },
    {
      "cell_type": "code",
      "metadata": {
        "id": "-hQdeajkRijV",
        "colab_type": "code",
        "colab": {}
      },
      "source": [
        "# Assigning the columns names to the movies dataset"
      ],
      "execution_count": null,
      "outputs": []
    },
    {
      "cell_type": "code",
      "metadata": {
        "id": "QSiN63G5Rijd",
        "colab_type": "code",
        "colab": {}
      },
      "source": [
        "m_column = ['Id','Title','Genre']\n"
      ],
      "execution_count": null,
      "outputs": []
    },
    {
      "cell_type": "code",
      "metadata": {
        "id": "ix6VuQCERijk",
        "colab_type": "code",
        "colab": {
          "base_uri": "https://localhost:8080/",
          "height": 34
        },
        "outputId": "70f48042-4ed5-49fb-b549-bc43c99542cc"
      },
      "source": [
        "m_column"
      ],
      "execution_count": null,
      "outputs": [
        {
          "output_type": "execute_result",
          "data": {
            "text/plain": [
              "['Id', 'Title', 'Genre']"
            ]
          },
          "metadata": {
            "tags": []
          },
          "execution_count": 9
        }
      ]
    },
    {
      "cell_type": "code",
      "metadata": {
        "id": "sp-IdFYcRijt",
        "colab_type": "code",
        "colab": {}
      },
      "source": [
        "dbmovies.columns = m_column"
      ],
      "execution_count": null,
      "outputs": []
    },
    {
      "cell_type": "markdown",
      "metadata": {
        "id": "FYS3CpAaRij3",
        "colab_type": "text"
      },
      "source": [
        "### Movies dataset after assigning the columns"
      ]
    },
    {
      "cell_type": "code",
      "metadata": {
        "id": "UL-aJOfGRij4",
        "colab_type": "code",
        "colab": {
          "base_uri": "https://localhost:8080/",
          "height": 204
        },
        "outputId": "872f1120-e7ad-48f7-ad43-86b9d948ee58"
      },
      "source": [
        "dbmovies.head()"
      ],
      "execution_count": null,
      "outputs": [
        {
          "output_type": "execute_result",
          "data": {
            "text/html": [
              "<div>\n",
              "<style scoped>\n",
              "    .dataframe tbody tr th:only-of-type {\n",
              "        vertical-align: middle;\n",
              "    }\n",
              "\n",
              "    .dataframe tbody tr th {\n",
              "        vertical-align: top;\n",
              "    }\n",
              "\n",
              "    .dataframe thead th {\n",
              "        text-align: right;\n",
              "    }\n",
              "</style>\n",
              "<table border=\"1\" class=\"dataframe\">\n",
              "  <thead>\n",
              "    <tr style=\"text-align: right;\">\n",
              "      <th></th>\n",
              "      <th>Id</th>\n",
              "      <th>Title</th>\n",
              "      <th>Genre</th>\n",
              "    </tr>\n",
              "  </thead>\n",
              "  <tbody>\n",
              "    <tr>\n",
              "      <th>0</th>\n",
              "      <td>1</td>\n",
              "      <td>Toy Story (1995)</td>\n",
              "      <td>Animation|Children's|Comedy</td>\n",
              "    </tr>\n",
              "    <tr>\n",
              "      <th>1</th>\n",
              "      <td>2</td>\n",
              "      <td>Jumanji (1995)</td>\n",
              "      <td>Adventure|Children's|Fantasy</td>\n",
              "    </tr>\n",
              "    <tr>\n",
              "      <th>2</th>\n",
              "      <td>3</td>\n",
              "      <td>Grumpier Old Men (1995)</td>\n",
              "      <td>Comedy|Romance</td>\n",
              "    </tr>\n",
              "    <tr>\n",
              "      <th>3</th>\n",
              "      <td>4</td>\n",
              "      <td>Waiting to Exhale (1995)</td>\n",
              "      <td>Comedy|Drama</td>\n",
              "    </tr>\n",
              "    <tr>\n",
              "      <th>4</th>\n",
              "      <td>5</td>\n",
              "      <td>Father of the Bride Part II (1995)</td>\n",
              "      <td>Comedy</td>\n",
              "    </tr>\n",
              "  </tbody>\n",
              "</table>\n",
              "</div>"
            ],
            "text/plain": [
              "   Id                               Title                         Genre\n",
              "0   1                    Toy Story (1995)   Animation|Children's|Comedy\n",
              "1   2                      Jumanji (1995)  Adventure|Children's|Fantasy\n",
              "2   3             Grumpier Old Men (1995)                Comedy|Romance\n",
              "3   4            Waiting to Exhale (1995)                  Comedy|Drama\n",
              "4   5  Father of the Bride Part II (1995)                        Comedy"
            ]
          },
          "metadata": {
            "tags": []
          },
          "execution_count": 11
        }
      ]
    },
    {
      "cell_type": "code",
      "metadata": {
        "id": "0ffSU0RpRikB",
        "colab_type": "code",
        "colab": {
          "base_uri": "https://localhost:8080/",
          "height": 85
        },
        "outputId": "2af13b6c-2736-4665-8175-025b7721cc66"
      },
      "source": [
        "# unique count in the movies dataset\n",
        "dbmovies.nunique()"
      ],
      "execution_count": null,
      "outputs": [
        {
          "output_type": "execute_result",
          "data": {
            "text/plain": [
              "Id       3883\n",
              "Title    3883\n",
              "Genre     301\n",
              "dtype: int64"
            ]
          },
          "metadata": {
            "tags": []
          },
          "execution_count": 12
        }
      ]
    },
    {
      "cell_type": "markdown",
      "metadata": {
        "id": "EPUK0eHNRikG",
        "colab_type": "text"
      },
      "source": [
        "### Importing the rating dataset"
      ]
    },
    {
      "cell_type": "code",
      "metadata": {
        "id": "4tOrRamDRikH",
        "colab_type": "code",
        "colab": {}
      },
      "source": [
        "dbrating = pd.read_table(\"ratings.dat\",sep = '::',header = None)"
      ],
      "execution_count": null,
      "outputs": []
    },
    {
      "cell_type": "code",
      "metadata": {
        "id": "jrYwwWISRikK",
        "colab_type": "code",
        "colab": {}
      },
      "source": [
        "r_col = ['Id','Review','Rating',\"MobileNo\"]"
      ],
      "execution_count": null,
      "outputs": []
    },
    {
      "cell_type": "code",
      "metadata": {
        "id": "NNjueXP9RikO",
        "colab_type": "code",
        "colab": {}
      },
      "source": [
        "dbrating.columns = r_col"
      ],
      "execution_count": null,
      "outputs": []
    },
    {
      "cell_type": "markdown",
      "metadata": {
        "id": "nSRMhczXRikU",
        "colab_type": "text"
      },
      "source": [
        "#### Rating dataset "
      ]
    },
    {
      "cell_type": "code",
      "metadata": {
        "id": "T4JLBPRDRikW",
        "colab_type": "code",
        "colab": {
          "base_uri": "https://localhost:8080/",
          "height": 204
        },
        "outputId": "5d98c8e1-cdb5-4971-9173-9e96ccbe6ece"
      },
      "source": [
        "dbrating.head()"
      ],
      "execution_count": null,
      "outputs": [
        {
          "output_type": "execute_result",
          "data": {
            "text/html": [
              "<div>\n",
              "<style scoped>\n",
              "    .dataframe tbody tr th:only-of-type {\n",
              "        vertical-align: middle;\n",
              "    }\n",
              "\n",
              "    .dataframe tbody tr th {\n",
              "        vertical-align: top;\n",
              "    }\n",
              "\n",
              "    .dataframe thead th {\n",
              "        text-align: right;\n",
              "    }\n",
              "</style>\n",
              "<table border=\"1\" class=\"dataframe\">\n",
              "  <thead>\n",
              "    <tr style=\"text-align: right;\">\n",
              "      <th></th>\n",
              "      <th>Id</th>\n",
              "      <th>Review</th>\n",
              "      <th>Rating</th>\n",
              "      <th>MobileNo</th>\n",
              "    </tr>\n",
              "  </thead>\n",
              "  <tbody>\n",
              "    <tr>\n",
              "      <th>0</th>\n",
              "      <td>1</td>\n",
              "      <td>1193</td>\n",
              "      <td>5</td>\n",
              "      <td>978300760</td>\n",
              "    </tr>\n",
              "    <tr>\n",
              "      <th>1</th>\n",
              "      <td>1</td>\n",
              "      <td>661</td>\n",
              "      <td>3</td>\n",
              "      <td>978302109</td>\n",
              "    </tr>\n",
              "    <tr>\n",
              "      <th>2</th>\n",
              "      <td>1</td>\n",
              "      <td>914</td>\n",
              "      <td>3</td>\n",
              "      <td>978301968</td>\n",
              "    </tr>\n",
              "    <tr>\n",
              "      <th>3</th>\n",
              "      <td>1</td>\n",
              "      <td>3408</td>\n",
              "      <td>4</td>\n",
              "      <td>978300275</td>\n",
              "    </tr>\n",
              "    <tr>\n",
              "      <th>4</th>\n",
              "      <td>1</td>\n",
              "      <td>2355</td>\n",
              "      <td>5</td>\n",
              "      <td>978824291</td>\n",
              "    </tr>\n",
              "  </tbody>\n",
              "</table>\n",
              "</div>"
            ],
            "text/plain": [
              "   Id  Review  Rating   MobileNo\n",
              "0   1    1193       5  978300760\n",
              "1   1     661       3  978302109\n",
              "2   1     914       3  978301968\n",
              "3   1    3408       4  978300275\n",
              "4   1    2355       5  978824291"
            ]
          },
          "metadata": {
            "tags": []
          },
          "execution_count": 16
        }
      ]
    },
    {
      "cell_type": "code",
      "metadata": {
        "id": "b86BBjRERikf",
        "colab_type": "code",
        "colab": {
          "base_uri": "https://localhost:8080/",
          "height": 102
        },
        "outputId": "839974b7-1155-45d3-8847-ebce9e6af85e"
      },
      "source": [
        "# Number of unique element in the dataset columnwise\n",
        "dbrating.nunique()"
      ],
      "execution_count": null,
      "outputs": [
        {
          "output_type": "execute_result",
          "data": {
            "text/plain": [
              "Id            6040\n",
              "Review        3706\n",
              "Rating           5\n",
              "MobileNo    458455\n",
              "dtype: int64"
            ]
          },
          "metadata": {
            "tags": []
          },
          "execution_count": 17
        }
      ]
    },
    {
      "cell_type": "markdown",
      "metadata": {
        "id": "8VDD8Y9GRikn",
        "colab_type": "text"
      },
      "source": [
        "### Importing the users.dat dataset"
      ]
    },
    {
      "cell_type": "code",
      "metadata": {
        "id": "aoq50K8dRiko",
        "colab_type": "code",
        "colab": {}
      },
      "source": [
        "dbusers = pd.read_table(\"users.dat\",sep = '::',header = None)"
      ],
      "execution_count": null,
      "outputs": []
    },
    {
      "cell_type": "code",
      "metadata": {
        "id": "fvvYIitGRikt",
        "colab_type": "code",
        "colab": {}
      },
      "source": [
        "u_col = ['Id','Gender','Age','X','occupation']"
      ],
      "execution_count": null,
      "outputs": []
    },
    {
      "cell_type": "code",
      "metadata": {
        "id": "bTZloD4URiky",
        "colab_type": "code",
        "colab": {}
      },
      "source": [
        "dbusers.columns = u_col"
      ],
      "execution_count": null,
      "outputs": []
    },
    {
      "cell_type": "markdown",
      "metadata": {
        "id": "3BqadrI4Rik2",
        "colab_type": "text"
      },
      "source": [
        "#### Users dataset after assigning the column_name"
      ]
    },
    {
      "cell_type": "code",
      "metadata": {
        "id": "v_nHE3wCRik4",
        "colab_type": "code",
        "colab": {
          "base_uri": "https://localhost:8080/",
          "height": 204
        },
        "outputId": "3526162b-33bb-4013-a5c7-ba0c029769a7"
      },
      "source": [
        "dbusers.head()"
      ],
      "execution_count": null,
      "outputs": [
        {
          "output_type": "execute_result",
          "data": {
            "text/html": [
              "<div>\n",
              "<style scoped>\n",
              "    .dataframe tbody tr th:only-of-type {\n",
              "        vertical-align: middle;\n",
              "    }\n",
              "\n",
              "    .dataframe tbody tr th {\n",
              "        vertical-align: top;\n",
              "    }\n",
              "\n",
              "    .dataframe thead th {\n",
              "        text-align: right;\n",
              "    }\n",
              "</style>\n",
              "<table border=\"1\" class=\"dataframe\">\n",
              "  <thead>\n",
              "    <tr style=\"text-align: right;\">\n",
              "      <th></th>\n",
              "      <th>Id</th>\n",
              "      <th>Gender</th>\n",
              "      <th>Age</th>\n",
              "      <th>X</th>\n",
              "      <th>occupation</th>\n",
              "    </tr>\n",
              "  </thead>\n",
              "  <tbody>\n",
              "    <tr>\n",
              "      <th>0</th>\n",
              "      <td>1</td>\n",
              "      <td>F</td>\n",
              "      <td>1</td>\n",
              "      <td>10</td>\n",
              "      <td>48067</td>\n",
              "    </tr>\n",
              "    <tr>\n",
              "      <th>1</th>\n",
              "      <td>2</td>\n",
              "      <td>M</td>\n",
              "      <td>56</td>\n",
              "      <td>16</td>\n",
              "      <td>70072</td>\n",
              "    </tr>\n",
              "    <tr>\n",
              "      <th>2</th>\n",
              "      <td>3</td>\n",
              "      <td>M</td>\n",
              "      <td>25</td>\n",
              "      <td>15</td>\n",
              "      <td>55117</td>\n",
              "    </tr>\n",
              "    <tr>\n",
              "      <th>3</th>\n",
              "      <td>4</td>\n",
              "      <td>M</td>\n",
              "      <td>45</td>\n",
              "      <td>7</td>\n",
              "      <td>02460</td>\n",
              "    </tr>\n",
              "    <tr>\n",
              "      <th>4</th>\n",
              "      <td>5</td>\n",
              "      <td>M</td>\n",
              "      <td>25</td>\n",
              "      <td>20</td>\n",
              "      <td>55455</td>\n",
              "    </tr>\n",
              "  </tbody>\n",
              "</table>\n",
              "</div>"
            ],
            "text/plain": [
              "   Id Gender  Age   X occupation\n",
              "0   1      F    1  10      48067\n",
              "1   2      M   56  16      70072\n",
              "2   3      M   25  15      55117\n",
              "3   4      M   45   7      02460\n",
              "4   5      M   25  20      55455"
            ]
          },
          "metadata": {
            "tags": []
          },
          "execution_count": 21
        }
      ]
    },
    {
      "cell_type": "code",
      "metadata": {
        "id": "ZiTVYI-yRik9",
        "colab_type": "code",
        "colab": {
          "base_uri": "https://localhost:8080/",
          "height": 119
        },
        "outputId": "e8926b6b-0d38-44f3-d748-01381d1c55e3"
      },
      "source": [
        "dbusers.nunique()"
      ],
      "execution_count": null,
      "outputs": [
        {
          "output_type": "execute_result",
          "data": {
            "text/plain": [
              "Id            6040\n",
              "Gender           2\n",
              "Age              7\n",
              "X               21\n",
              "occupation    3439\n",
              "dtype: int64"
            ]
          },
          "metadata": {
            "tags": []
          },
          "execution_count": 22
        }
      ]
    },
    {
      "cell_type": "markdown",
      "metadata": {
        "id": "Ekgcg1t1RilC",
        "colab_type": "text"
      },
      "source": [
        "# Merging of two dataset movies and users"
      ]
    },
    {
      "cell_type": "code",
      "metadata": {
        "id": "4MZcbKuIRilC",
        "colab_type": "code",
        "colab": {}
      },
      "source": [
        "t_mer = pd.merge(dbmovies,dbusers, how = 'inner',on = 'Id')"
      ],
      "execution_count": null,
      "outputs": []
    },
    {
      "cell_type": "code",
      "metadata": {
        "id": "I2U3tVAkRilG",
        "colab_type": "code",
        "colab": {
          "base_uri": "https://localhost:8080/",
          "height": 204
        },
        "outputId": "28f41343-2c30-4da3-9382-276d1f5d0823"
      },
      "source": [
        "t_mer.head()"
      ],
      "execution_count": null,
      "outputs": [
        {
          "output_type": "execute_result",
          "data": {
            "text/html": [
              "<div>\n",
              "<style scoped>\n",
              "    .dataframe tbody tr th:only-of-type {\n",
              "        vertical-align: middle;\n",
              "    }\n",
              "\n",
              "    .dataframe tbody tr th {\n",
              "        vertical-align: top;\n",
              "    }\n",
              "\n",
              "    .dataframe thead th {\n",
              "        text-align: right;\n",
              "    }\n",
              "</style>\n",
              "<table border=\"1\" class=\"dataframe\">\n",
              "  <thead>\n",
              "    <tr style=\"text-align: right;\">\n",
              "      <th></th>\n",
              "      <th>Id</th>\n",
              "      <th>Title</th>\n",
              "      <th>Genre</th>\n",
              "      <th>Gender</th>\n",
              "      <th>Age</th>\n",
              "      <th>X</th>\n",
              "      <th>occupation</th>\n",
              "    </tr>\n",
              "  </thead>\n",
              "  <tbody>\n",
              "    <tr>\n",
              "      <th>0</th>\n",
              "      <td>1</td>\n",
              "      <td>Toy Story (1995)</td>\n",
              "      <td>Animation|Children's|Comedy</td>\n",
              "      <td>F</td>\n",
              "      <td>1</td>\n",
              "      <td>10</td>\n",
              "      <td>48067</td>\n",
              "    </tr>\n",
              "    <tr>\n",
              "      <th>1</th>\n",
              "      <td>2</td>\n",
              "      <td>Jumanji (1995)</td>\n",
              "      <td>Adventure|Children's|Fantasy</td>\n",
              "      <td>M</td>\n",
              "      <td>56</td>\n",
              "      <td>16</td>\n",
              "      <td>70072</td>\n",
              "    </tr>\n",
              "    <tr>\n",
              "      <th>2</th>\n",
              "      <td>3</td>\n",
              "      <td>Grumpier Old Men (1995)</td>\n",
              "      <td>Comedy|Romance</td>\n",
              "      <td>M</td>\n",
              "      <td>25</td>\n",
              "      <td>15</td>\n",
              "      <td>55117</td>\n",
              "    </tr>\n",
              "    <tr>\n",
              "      <th>3</th>\n",
              "      <td>4</td>\n",
              "      <td>Waiting to Exhale (1995)</td>\n",
              "      <td>Comedy|Drama</td>\n",
              "      <td>M</td>\n",
              "      <td>45</td>\n",
              "      <td>7</td>\n",
              "      <td>02460</td>\n",
              "    </tr>\n",
              "    <tr>\n",
              "      <th>4</th>\n",
              "      <td>5</td>\n",
              "      <td>Father of the Bride Part II (1995)</td>\n",
              "      <td>Comedy</td>\n",
              "      <td>M</td>\n",
              "      <td>25</td>\n",
              "      <td>20</td>\n",
              "      <td>55455</td>\n",
              "    </tr>\n",
              "  </tbody>\n",
              "</table>\n",
              "</div>"
            ],
            "text/plain": [
              "   Id                               Title  ...   X occupation\n",
              "0   1                    Toy Story (1995)  ...  10      48067\n",
              "1   2                      Jumanji (1995)  ...  16      70072\n",
              "2   3             Grumpier Old Men (1995)  ...  15      55117\n",
              "3   4            Waiting to Exhale (1995)  ...   7      02460\n",
              "4   5  Father of the Bride Part II (1995)  ...  20      55455\n",
              "\n",
              "[5 rows x 7 columns]"
            ]
          },
          "metadata": {
            "tags": []
          },
          "execution_count": 24
        }
      ]
    },
    {
      "cell_type": "code",
      "metadata": {
        "id": "Zu4TwHWNRilK",
        "colab_type": "code",
        "colab": {
          "base_uri": "https://localhost:8080/",
          "height": 153
        },
        "outputId": "b5ee1d02-e1e7-40ff-837e-5296e85673c4"
      },
      "source": [
        "# Checking for null values\n",
        "t_mer.isnull().sum()"
      ],
      "execution_count": null,
      "outputs": [
        {
          "output_type": "execute_result",
          "data": {
            "text/plain": [
              "Id            0\n",
              "Title         0\n",
              "Genre         0\n",
              "Gender        0\n",
              "Age           0\n",
              "X             0\n",
              "occupation    0\n",
              "dtype: int64"
            ]
          },
          "metadata": {
            "tags": []
          },
          "execution_count": 25
        }
      ]
    },
    {
      "cell_type": "markdown",
      "metadata": {
        "id": "I2-UBuwsRilN",
        "colab_type": "text"
      },
      "source": [
        "## The master dataset of all dataset i.e movies,users,rating"
      ]
    },
    {
      "cell_type": "code",
      "metadata": {
        "id": "Ha_iw249RilO",
        "colab_type": "code",
        "colab": {}
      },
      "source": [
        "master = pd.merge(t_mer,dbrating, how = 'inner',on = \"Id\")"
      ],
      "execution_count": null,
      "outputs": []
    },
    {
      "cell_type": "markdown",
      "metadata": {
        "id": "hDdHXMBwRilR",
        "colab_type": "text"
      },
      "source": [
        "### Final master dataset"
      ]
    },
    {
      "cell_type": "code",
      "metadata": {
        "id": "JzjiEc5LRilS",
        "colab_type": "code",
        "colab": {
          "base_uri": "https://localhost:8080/",
          "height": 204
        },
        "outputId": "648d98bf-5e82-45e8-b5e9-8762a9a2fd6d"
      },
      "source": [
        "master.head()"
      ],
      "execution_count": null,
      "outputs": [
        {
          "output_type": "execute_result",
          "data": {
            "text/html": [
              "<div>\n",
              "<style scoped>\n",
              "    .dataframe tbody tr th:only-of-type {\n",
              "        vertical-align: middle;\n",
              "    }\n",
              "\n",
              "    .dataframe tbody tr th {\n",
              "        vertical-align: top;\n",
              "    }\n",
              "\n",
              "    .dataframe thead th {\n",
              "        text-align: right;\n",
              "    }\n",
              "</style>\n",
              "<table border=\"1\" class=\"dataframe\">\n",
              "  <thead>\n",
              "    <tr style=\"text-align: right;\">\n",
              "      <th></th>\n",
              "      <th>Id</th>\n",
              "      <th>Title</th>\n",
              "      <th>Genre</th>\n",
              "      <th>Gender</th>\n",
              "      <th>Age</th>\n",
              "      <th>X</th>\n",
              "      <th>occupation</th>\n",
              "      <th>Review</th>\n",
              "      <th>Rating</th>\n",
              "      <th>MobileNo</th>\n",
              "    </tr>\n",
              "  </thead>\n",
              "  <tbody>\n",
              "    <tr>\n",
              "      <th>0</th>\n",
              "      <td>1</td>\n",
              "      <td>Toy Story (1995)</td>\n",
              "      <td>Animation|Children's|Comedy</td>\n",
              "      <td>F</td>\n",
              "      <td>1</td>\n",
              "      <td>10</td>\n",
              "      <td>48067</td>\n",
              "      <td>1193</td>\n",
              "      <td>5</td>\n",
              "      <td>978300760</td>\n",
              "    </tr>\n",
              "    <tr>\n",
              "      <th>1</th>\n",
              "      <td>1</td>\n",
              "      <td>Toy Story (1995)</td>\n",
              "      <td>Animation|Children's|Comedy</td>\n",
              "      <td>F</td>\n",
              "      <td>1</td>\n",
              "      <td>10</td>\n",
              "      <td>48067</td>\n",
              "      <td>661</td>\n",
              "      <td>3</td>\n",
              "      <td>978302109</td>\n",
              "    </tr>\n",
              "    <tr>\n",
              "      <th>2</th>\n",
              "      <td>1</td>\n",
              "      <td>Toy Story (1995)</td>\n",
              "      <td>Animation|Children's|Comedy</td>\n",
              "      <td>F</td>\n",
              "      <td>1</td>\n",
              "      <td>10</td>\n",
              "      <td>48067</td>\n",
              "      <td>914</td>\n",
              "      <td>3</td>\n",
              "      <td>978301968</td>\n",
              "    </tr>\n",
              "    <tr>\n",
              "      <th>3</th>\n",
              "      <td>1</td>\n",
              "      <td>Toy Story (1995)</td>\n",
              "      <td>Animation|Children's|Comedy</td>\n",
              "      <td>F</td>\n",
              "      <td>1</td>\n",
              "      <td>10</td>\n",
              "      <td>48067</td>\n",
              "      <td>3408</td>\n",
              "      <td>4</td>\n",
              "      <td>978300275</td>\n",
              "    </tr>\n",
              "    <tr>\n",
              "      <th>4</th>\n",
              "      <td>1</td>\n",
              "      <td>Toy Story (1995)</td>\n",
              "      <td>Animation|Children's|Comedy</td>\n",
              "      <td>F</td>\n",
              "      <td>1</td>\n",
              "      <td>10</td>\n",
              "      <td>48067</td>\n",
              "      <td>2355</td>\n",
              "      <td>5</td>\n",
              "      <td>978824291</td>\n",
              "    </tr>\n",
              "  </tbody>\n",
              "</table>\n",
              "</div>"
            ],
            "text/plain": [
              "   Id             Title                        Genre  ... Review  Rating   MobileNo\n",
              "0   1  Toy Story (1995)  Animation|Children's|Comedy  ...   1193       5  978300760\n",
              "1   1  Toy Story (1995)  Animation|Children's|Comedy  ...    661       3  978302109\n",
              "2   1  Toy Story (1995)  Animation|Children's|Comedy  ...    914       3  978301968\n",
              "3   1  Toy Story (1995)  Animation|Children's|Comedy  ...   3408       4  978300275\n",
              "4   1  Toy Story (1995)  Animation|Children's|Comedy  ...   2355       5  978824291\n",
              "\n",
              "[5 rows x 10 columns]"
            ]
          },
          "metadata": {
            "tags": []
          },
          "execution_count": 27
        }
      ]
    },
    {
      "cell_type": "code",
      "metadata": {
        "id": "LsZOyg8XRilW",
        "colab_type": "code",
        "colab": {
          "base_uri": "https://localhost:8080/",
          "height": 34
        },
        "outputId": "8125176d-bf88-4723-bddf-d4baca585fc6"
      },
      "source": [
        "# shape of the master dataset\n",
        "master.shape"
      ],
      "execution_count": null,
      "outputs": [
        {
          "output_type": "execute_result",
          "data": {
            "text/plain": [
              "(645833, 10)"
            ]
          },
          "metadata": {
            "tags": []
          },
          "execution_count": 28
        }
      ]
    },
    {
      "cell_type": "markdown",
      "metadata": {
        "id": "XVZgpEzmRilZ",
        "colab_type": "text"
      },
      "source": [
        "# Data Understaing and Exploration\n"
      ]
    },
    {
      "cell_type": "markdown",
      "metadata": {
        "id": "i3xYBbm4Rila",
        "colab_type": "text"
      },
      "source": [
        "### User Age Distribution\n",
        "#####  >>>The countplot show the age distribution w.r.t to Gender which show that age = 25 male is interested in watching movies and gives review with respective to the movies."
      ]
    },
    {
      "cell_type": "code",
      "metadata": {
        "id": "d8xQjaqCRila",
        "colab_type": "code",
        "colab": {
          "base_uri": "https://localhost:8080/",
          "height": 279
        },
        "outputId": "587be92d-9b91-4051-c9ff-b84eec535c33"
      },
      "source": [
        "ax = sns.countplot('Age',data = master,hue = 'Gender')\n"
      ],
      "execution_count": null,
      "outputs": [
        {
          "output_type": "display_data",
          "data": {
            "image/png": "[encoded data removed]",
            "text/plain": [
              "<Figure size 432x288 with 1 Axes>"
            ]
          },
          "metadata": {
            "tags": [],
            "needs_background": "light"
          }
        }
      ]
    },
    {
      "cell_type": "markdown",
      "metadata": {
        "id": "_NQd2QJNRile",
        "colab_type": "text"
      },
      "source": [
        "### User rating of the movie “Toy Story”\n"
      ]
    },
    {
      "cell_type": "markdown",
      "metadata": {
        "id": "mrkpWufbRilf",
        "colab_type": "text"
      },
      "source": [
        "##### The User gives Rating to the Movies Toy Story in the year 1995 "
      ]
    },
    {
      "cell_type": "code",
      "metadata": {
        "id": "WL19jIRfRilf",
        "colab_type": "code",
        "colab": {}
      },
      "source": [
        "User_rating=master[master.Title == 'Toy Story (1995)'][['Title','Rating']]"
      ],
      "execution_count": null,
      "outputs": []
    },
    {
      "cell_type": "code",
      "metadata": {
        "id": "7ztos0JbRilj",
        "colab_type": "code",
        "colab": {
          "base_uri": "https://localhost:8080/",
          "height": 204
        },
        "outputId": "99d68498-5584-45a1-fe74-58f6a24234ad"
      },
      "source": [
        "User_rating.head()"
      ],
      "execution_count": null,
      "outputs": [
        {
          "output_type": "execute_result",
          "data": {
            "text/html": [
              "<div>\n",
              "<style scoped>\n",
              "    .dataframe tbody tr th:only-of-type {\n",
              "        vertical-align: middle;\n",
              "    }\n",
              "\n",
              "    .dataframe tbody tr th {\n",
              "        vertical-align: top;\n",
              "    }\n",
              "\n",
              "    .dataframe thead th {\n",
              "        text-align: right;\n",
              "    }\n",
              "</style>\n",
              "<table border=\"1\" class=\"dataframe\">\n",
              "  <thead>\n",
              "    <tr style=\"text-align: right;\">\n",
              "      <th></th>\n",
              "      <th>Title</th>\n",
              "      <th>Rating</th>\n",
              "    </tr>\n",
              "  </thead>\n",
              "  <tbody>\n",
              "    <tr>\n",
              "      <th>0</th>\n",
              "      <td>Toy Story (1995)</td>\n",
              "      <td>5</td>\n",
              "    </tr>\n",
              "    <tr>\n",
              "      <th>1</th>\n",
              "      <td>Toy Story (1995)</td>\n",
              "      <td>3</td>\n",
              "    </tr>\n",
              "    <tr>\n",
              "      <th>2</th>\n",
              "      <td>Toy Story (1995)</td>\n",
              "      <td>3</td>\n",
              "    </tr>\n",
              "    <tr>\n",
              "      <th>3</th>\n",
              "      <td>Toy Story (1995)</td>\n",
              "      <td>4</td>\n",
              "    </tr>\n",
              "    <tr>\n",
              "      <th>4</th>\n",
              "      <td>Toy Story (1995)</td>\n",
              "      <td>5</td>\n",
              "    </tr>\n",
              "  </tbody>\n",
              "</table>\n",
              "</div>"
            ],
            "text/plain": [
              "              Title  Rating\n",
              "0  Toy Story (1995)       5\n",
              "1  Toy Story (1995)       3\n",
              "2  Toy Story (1995)       3\n",
              "3  Toy Story (1995)       4\n",
              "4  Toy Story (1995)       5"
            ]
          },
          "metadata": {
            "tags": []
          },
          "execution_count": 31
        }
      ]
    },
    {
      "cell_type": "markdown",
      "metadata": {
        "id": "RYeYwgZSRilm",
        "colab_type": "text"
      },
      "source": [
        "### Top 25 movies by viewership rating\n"
      ]
    },
    {
      "cell_type": "markdown",
      "metadata": {
        "id": "Ukhaz5gYRiln",
        "colab_type": "text"
      },
      "source": [
        "##### The top 25 most review by the user movies are following"
      ]
    },
    {
      "cell_type": "code",
      "metadata": {
        "id": "lZfI4pAvRiln",
        "colab_type": "code",
        "colab": {}
      },
      "source": [
        "x =master.groupby(['Title']).sum()"
      ],
      "execution_count": null,
      "outputs": []
    },
    {
      "cell_type": "code",
      "metadata": {
        "id": "VZzI2BItRilq",
        "colab_type": "code",
        "colab": {}
      },
      "source": [
        "y = x.sort_values(by = ['Review'],ascending = False).head(25)"
      ],
      "execution_count": null,
      "outputs": []
    },
    {
      "cell_type": "code",
      "metadata": {
        "id": "1GvYIWOURilr",
        "colab_type": "code",
        "colab": {}
      },
      "source": [
        "Viewship = pd.DataFrame(y.Review)"
      ],
      "execution_count": null,
      "outputs": []
    },
    {
      "cell_type": "code",
      "metadata": {
        "id": "jYhEVMAnRilt",
        "colab_type": "code",
        "colab": {
          "base_uri": "https://localhost:8080/",
          "height": 855
        },
        "outputId": "6347d714-3137-4140-dec1-80d40cb4940a"
      },
      "source": [
        "Viewship.head(25)"
      ],
      "execution_count": null,
      "outputs": [
        {
          "output_type": "execute_result",
          "data": {
            "text/html": [
              "<div>\n",
              "<style scoped>\n",
              "    .dataframe tbody tr th:only-of-type {\n",
              "        vertical-align: middle;\n",
              "    }\n",
              "\n",
              "    .dataframe tbody tr th {\n",
              "        vertical-align: top;\n",
              "    }\n",
              "\n",
              "    .dataframe thead th {\n",
              "        text-align: right;\n",
              "    }\n",
              "</style>\n",
              "<table border=\"1\" class=\"dataframe\">\n",
              "  <thead>\n",
              "    <tr style=\"text-align: right;\">\n",
              "      <th></th>\n",
              "      <th>Review</th>\n",
              "    </tr>\n",
              "    <tr>\n",
              "      <th>Title</th>\n",
              "      <th></th>\n",
              "    </tr>\n",
              "  </thead>\n",
              "  <tbody>\n",
              "    <tr>\n",
              "      <th>Sliding Doors (1998)</th>\n",
              "      <td>3484153</td>\n",
              "    </tr>\n",
              "    <tr>\n",
              "      <th>Hamlet (1948)</th>\n",
              "      <td>3220078</td>\n",
              "    </tr>\n",
              "    <tr>\n",
              "      <th>1-900 (1994)</th>\n",
              "      <td>3014306</td>\n",
              "    </tr>\n",
              "    <tr>\n",
              "      <th>Shooter, The (1995)</th>\n",
              "      <td>2950602</td>\n",
              "    </tr>\n",
              "    <tr>\n",
              "      <th>Small Time Crooks (2000)</th>\n",
              "      <td>2549095</td>\n",
              "    </tr>\n",
              "    <tr>\n",
              "      <th>Seventh Heaven (Le Septi�me ciel) (1997)</th>\n",
              "      <td>2522136</td>\n",
              "    </tr>\n",
              "    <tr>\n",
              "      <th>Blue Chips (1994)</th>\n",
              "      <td>2479950</td>\n",
              "    </tr>\n",
              "    <tr>\n",
              "      <th>Waiting for Guffman (1996)</th>\n",
              "      <td>2477592</td>\n",
              "    </tr>\n",
              "    <tr>\n",
              "      <th>Five Wives, Three Secretaries and Me (1998)</th>\n",
              "      <td>2444231</td>\n",
              "    </tr>\n",
              "    <tr>\n",
              "      <th>Homeward Bound: The Incredible Journey (1993)</th>\n",
              "      <td>2413720</td>\n",
              "    </tr>\n",
              "    <tr>\n",
              "      <th>Air America (1990)</th>\n",
              "      <td>2409390</td>\n",
              "    </tr>\n",
              "    <tr>\n",
              "      <th>Friday the 13th Part VII: The New Blood (1988)</th>\n",
              "      <td>2380633</td>\n",
              "    </tr>\n",
              "    <tr>\n",
              "      <th>Return of Martin Guerre, The (Retour de Martin Guerre, Le) (1982)</th>\n",
              "      <td>2357811</td>\n",
              "    </tr>\n",
              "    <tr>\n",
              "      <th>Heathers (1989)</th>\n",
              "      <td>2312862</td>\n",
              "    </tr>\n",
              "    <tr>\n",
              "      <th>Thirty-Two Short Films About Glenn Gould (1993)</th>\n",
              "      <td>2277285</td>\n",
              "    </tr>\n",
              "    <tr>\n",
              "      <th>Dirty Dancing (1987)</th>\n",
              "      <td>2193241</td>\n",
              "    </tr>\n",
              "    <tr>\n",
              "      <th>Two Women (La Ciociara) (1961)</th>\n",
              "      <td>2185810</td>\n",
              "    </tr>\n",
              "    <tr>\n",
              "      <th>Who's That Girl? (1987)</th>\n",
              "      <td>2119146</td>\n",
              "    </tr>\n",
              "    <tr>\n",
              "      <th>Autumn in New York (2000)</th>\n",
              "      <td>2118298</td>\n",
              "    </tr>\n",
              "    <tr>\n",
              "      <th>Woman in the Dunes (Suna no onna) (1964)</th>\n",
              "      <td>2059618</td>\n",
              "    </tr>\n",
              "    <tr>\n",
              "      <th>Some Folks Call It a Sling Blade (1993)</th>\n",
              "      <td>2013461</td>\n",
              "    </tr>\n",
              "    <tr>\n",
              "      <th>Fire on the Mountain (1996)</th>\n",
              "      <td>1965215</td>\n",
              "    </tr>\n",
              "    <tr>\n",
              "      <th>Vermont Is For Lovers (1992)</th>\n",
              "      <td>1956705</td>\n",
              "    </tr>\n",
              "    <tr>\n",
              "      <th>Lawn Dogs (1997)</th>\n",
              "      <td>1945308</td>\n",
              "    </tr>\n",
              "    <tr>\n",
              "      <th>Big Combo, The (1955)</th>\n",
              "      <td>1922223</td>\n",
              "    </tr>\n",
              "  </tbody>\n",
              "</table>\n",
              "</div>"
            ],
            "text/plain": [
              "                                                     Review\n",
              "Title                                                      \n",
              "Sliding Doors (1998)                                3484153\n",
              "Hamlet (1948)                                       3220078\n",
              "1-900 (1994)                                        3014306\n",
              "Shooter, The (1995)                                 2950602\n",
              "Small Time Crooks (2000)                            2549095\n",
              "Seventh Heaven (Le Septi�me ciel) (1997)            2522136\n",
              "Blue Chips (1994)                                   2479950\n",
              "Waiting for Guffman (1996)                          2477592\n",
              "Five Wives, Three Secretaries and Me (1998)         2444231\n",
              "Homeward Bound: The Incredible Journey (1993)       2413720\n",
              "Air America (1990)                                  2409390\n",
              "Friday the 13th Part VII: The New Blood (1988)      2380633\n",
              "Return of Martin Guerre, The (Retour de Martin ...  2357811\n",
              "Heathers (1989)                                     2312862\n",
              "Thirty-Two Short Films About Glenn Gould (1993)     2277285\n",
              "Dirty Dancing (1987)                                2193241\n",
              "Two Women (La Ciociara) (1961)                      2185810\n",
              "Who's That Girl? (1987)                             2119146\n",
              "Autumn in New York (2000)                           2118298\n",
              "Woman in the Dunes (Suna no onna) (1964)            2059618\n",
              "Some Folks Call It a Sling Blade (1993)             2013461\n",
              "Fire on the Mountain (1996)                         1965215\n",
              "Vermont Is For Lovers (1992)                        1956705\n",
              "Lawn Dogs (1997)                                    1945308\n",
              "Big Combo, The (1955)                               1922223"
            ]
          },
          "metadata": {
            "tags": []
          },
          "execution_count": 35
        }
      ]
    },
    {
      "cell_type": "markdown",
      "metadata": {
        "id": "X8c3q01rRilv",
        "colab_type": "text"
      },
      "source": [
        "### Find the ratings for all the movies reviewed by for a particular user of user id = 2696\n"
      ]
    },
    {
      "cell_type": "code",
      "metadata": {
        "id": "gWndt46URilw",
        "colab_type": "code",
        "colab": {
          "base_uri": "https://localhost:8080/",
          "height": 669
        },
        "outputId": "e76e0e15-5ce3-4c55-d58d-f34da3c27b5a"
      },
      "source": [
        "master[master.Id == 2696][['Title','Rating']]"
      ],
      "execution_count": null,
      "outputs": [
        {
          "output_type": "execute_result",
          "data": {
            "text/html": [
              "<div>\n",
              "<style scoped>\n",
              "    .dataframe tbody tr th:only-of-type {\n",
              "        vertical-align: middle;\n",
              "    }\n",
              "\n",
              "    .dataframe tbody tr th {\n",
              "        vertical-align: top;\n",
              "    }\n",
              "\n",
              "    .dataframe thead th {\n",
              "        text-align: right;\n",
              "    }\n",
              "</style>\n",
              "<table border=\"1\" class=\"dataframe\">\n",
              "  <thead>\n",
              "    <tr style=\"text-align: right;\">\n",
              "      <th></th>\n",
              "      <th>Title</th>\n",
              "      <th>Rating</th>\n",
              "    </tr>\n",
              "  </thead>\n",
              "  <tbody>\n",
              "    <tr>\n",
              "      <th>430638</th>\n",
              "      <td>Dinner Game, The (Le D�ner de cons) (1998)</td>\n",
              "      <td>4</td>\n",
              "    </tr>\n",
              "    <tr>\n",
              "      <th>430639</th>\n",
              "      <td>Dinner Game, The (Le D�ner de cons) (1998)</td>\n",
              "      <td>2</td>\n",
              "    </tr>\n",
              "    <tr>\n",
              "      <th>430640</th>\n",
              "      <td>Dinner Game, The (Le D�ner de cons) (1998)</td>\n",
              "      <td>4</td>\n",
              "    </tr>\n",
              "    <tr>\n",
              "      <th>430641</th>\n",
              "      <td>Dinner Game, The (Le D�ner de cons) (1998)</td>\n",
              "      <td>4</td>\n",
              "    </tr>\n",
              "    <tr>\n",
              "      <th>430642</th>\n",
              "      <td>Dinner Game, The (Le D�ner de cons) (1998)</td>\n",
              "      <td>2</td>\n",
              "    </tr>\n",
              "    <tr>\n",
              "      <th>430643</th>\n",
              "      <td>Dinner Game, The (Le D�ner de cons) (1998)</td>\n",
              "      <td>4</td>\n",
              "    </tr>\n",
              "    <tr>\n",
              "      <th>430644</th>\n",
              "      <td>Dinner Game, The (Le D�ner de cons) (1998)</td>\n",
              "      <td>4</td>\n",
              "    </tr>\n",
              "    <tr>\n",
              "      <th>430645</th>\n",
              "      <td>Dinner Game, The (Le D�ner de cons) (1998)</td>\n",
              "      <td>4</td>\n",
              "    </tr>\n",
              "    <tr>\n",
              "      <th>430646</th>\n",
              "      <td>Dinner Game, The (Le D�ner de cons) (1998)</td>\n",
              "      <td>5</td>\n",
              "    </tr>\n",
              "    <tr>\n",
              "      <th>430647</th>\n",
              "      <td>Dinner Game, The (Le D�ner de cons) (1998)</td>\n",
              "      <td>2</td>\n",
              "    </tr>\n",
              "    <tr>\n",
              "      <th>430648</th>\n",
              "      <td>Dinner Game, The (Le D�ner de cons) (1998)</td>\n",
              "      <td>4</td>\n",
              "    </tr>\n",
              "    <tr>\n",
              "      <th>430649</th>\n",
              "      <td>Dinner Game, The (Le D�ner de cons) (1998)</td>\n",
              "      <td>4</td>\n",
              "    </tr>\n",
              "    <tr>\n",
              "      <th>430650</th>\n",
              "      <td>Dinner Game, The (Le D�ner de cons) (1998)</td>\n",
              "      <td>4</td>\n",
              "    </tr>\n",
              "    <tr>\n",
              "      <th>430651</th>\n",
              "      <td>Dinner Game, The (Le D�ner de cons) (1998)</td>\n",
              "      <td>3</td>\n",
              "    </tr>\n",
              "    <tr>\n",
              "      <th>430652</th>\n",
              "      <td>Dinner Game, The (Le D�ner de cons) (1998)</td>\n",
              "      <td>1</td>\n",
              "    </tr>\n",
              "    <tr>\n",
              "      <th>430653</th>\n",
              "      <td>Dinner Game, The (Le D�ner de cons) (1998)</td>\n",
              "      <td>1</td>\n",
              "    </tr>\n",
              "    <tr>\n",
              "      <th>430654</th>\n",
              "      <td>Dinner Game, The (Le D�ner de cons) (1998)</td>\n",
              "      <td>4</td>\n",
              "    </tr>\n",
              "    <tr>\n",
              "      <th>430655</th>\n",
              "      <td>Dinner Game, The (Le D�ner de cons) (1998)</td>\n",
              "      <td>3</td>\n",
              "    </tr>\n",
              "    <tr>\n",
              "      <th>430656</th>\n",
              "      <td>Dinner Game, The (Le D�ner de cons) (1998)</td>\n",
              "      <td>4</td>\n",
              "    </tr>\n",
              "    <tr>\n",
              "      <th>430657</th>\n",
              "      <td>Dinner Game, The (Le D�ner de cons) (1998)</td>\n",
              "      <td>3</td>\n",
              "    </tr>\n",
              "  </tbody>\n",
              "</table>\n",
              "</div>"
            ],
            "text/plain": [
              "                                             Title  Rating\n",
              "430638  Dinner Game, The (Le D�ner de cons) (1998)       4\n",
              "430639  Dinner Game, The (Le D�ner de cons) (1998)       2\n",
              "430640  Dinner Game, The (Le D�ner de cons) (1998)       4\n",
              "430641  Dinner Game, The (Le D�ner de cons) (1998)       4\n",
              "430642  Dinner Game, The (Le D�ner de cons) (1998)       2\n",
              "430643  Dinner Game, The (Le D�ner de cons) (1998)       4\n",
              "430644  Dinner Game, The (Le D�ner de cons) (1998)       4\n",
              "430645  Dinner Game, The (Le D�ner de cons) (1998)       4\n",
              "430646  Dinner Game, The (Le D�ner de cons) (1998)       5\n",
              "430647  Dinner Game, The (Le D�ner de cons) (1998)       2\n",
              "430648  Dinner Game, The (Le D�ner de cons) (1998)       4\n",
              "430649  Dinner Game, The (Le D�ner de cons) (1998)       4\n",
              "430650  Dinner Game, The (Le D�ner de cons) (1998)       4\n",
              "430651  Dinner Game, The (Le D�ner de cons) (1998)       3\n",
              "430652  Dinner Game, The (Le D�ner de cons) (1998)       1\n",
              "430653  Dinner Game, The (Le D�ner de cons) (1998)       1\n",
              "430654  Dinner Game, The (Le D�ner de cons) (1998)       4\n",
              "430655  Dinner Game, The (Le D�ner de cons) (1998)       3\n",
              "430656  Dinner Game, The (Le D�ner de cons) (1998)       4\n",
              "430657  Dinner Game, The (Le D�ner de cons) (1998)       3"
            ]
          },
          "metadata": {
            "tags": []
          },
          "execution_count": 36
        }
      ]
    },
    {
      "cell_type": "markdown",
      "metadata": {
        "id": "MLSETVf_Rilz",
        "colab_type": "text"
      },
      "source": [
        "### Feature Engineering"
      ]
    },
    {
      "cell_type": "markdown",
      "metadata": {
        "id": "YqMq-U5tRilz",
        "colab_type": "text"
      },
      "source": [
        "##### Find out all the unique genres (Hint: split the data in column genre making a list and then process the data to find out only the unique categories of genres)\n"
      ]
    },
    {
      "cell_type": "code",
      "metadata": {
        "id": "5ukcXkiGRilz",
        "colab_type": "code",
        "colab": {
          "base_uri": "https://localhost:8080/",
          "height": 85
        },
        "outputId": "0b49d70e-755e-4933-e4e0-39a787286caf"
      },
      "source": [
        "x = master['Genre'].apply(lambda x : x.split('|')[0]).unique()\n",
        "x"
      ],
      "execution_count": null,
      "outputs": [
        {
          "output_type": "execute_result",
          "data": {
            "text/plain": [
              "array(['Animation', 'Adventure', 'Comedy', 'Action', 'Drama', 'Thriller',\n",
              "       'Crime', 'Romance', \"Children's\", 'Documentary', 'Sci-Fi',\n",
              "       'Horror', 'Western', 'Mystery', 'Film-Noir', 'War', 'Fantasy',\n",
              "       'Musical'], dtype=object)"
            ]
          },
          "metadata": {
            "tags": []
          },
          "execution_count": 37
        }
      ]
    },
    {
      "cell_type": "markdown",
      "metadata": {
        "id": "cD6yp94aRil2",
        "colab_type": "text"
      },
      "source": [
        "### Creating a new column name genre "
      ]
    },
    {
      "cell_type": "code",
      "metadata": {
        "id": "LPWyEsJHRil2",
        "colab_type": "code",
        "colab": {}
      },
      "source": [
        "master['genre'] = master['Genre'].apply(lambda x : x.split('|')[0])"
      ],
      "execution_count": null,
      "outputs": []
    },
    {
      "cell_type": "code",
      "metadata": {
        "id": "766coQsoRil4",
        "colab_type": "code",
        "colab": {
          "base_uri": "https://localhost:8080/",
          "height": 34
        },
        "outputId": "b0398714-5691-427c-f84f-19c0d31c7360"
      },
      "source": [
        "master.shape"
      ],
      "execution_count": null,
      "outputs": [
        {
          "output_type": "execute_result",
          "data": {
            "text/plain": [
              "(645833, 11)"
            ]
          },
          "metadata": {
            "tags": []
          },
          "execution_count": 39
        }
      ]
    },
    {
      "cell_type": "code",
      "metadata": {
        "id": "tQ7RlhdfRil7",
        "colab_type": "code",
        "colab": {
          "base_uri": "https://localhost:8080/",
          "height": 204
        },
        "outputId": "47de6d38-7bb3-4871-d5fa-d3d1be705b61"
      },
      "source": [
        "master.head()"
      ],
      "execution_count": null,
      "outputs": [
        {
          "output_type": "execute_result",
          "data": {
            "text/html": [
              "<div>\n",
              "<style scoped>\n",
              "    .dataframe tbody tr th:only-of-type {\n",
              "        vertical-align: middle;\n",
              "    }\n",
              "\n",
              "    .dataframe tbody tr th {\n",
              "        vertical-align: top;\n",
              "    }\n",
              "\n",
              "    .dataframe thead th {\n",
              "        text-align: right;\n",
              "    }\n",
              "</style>\n",
              "<table border=\"1\" class=\"dataframe\">\n",
              "  <thead>\n",
              "    <tr style=\"text-align: right;\">\n",
              "      <th></th>\n",
              "      <th>Id</th>\n",
              "      <th>Title</th>\n",
              "      <th>Genre</th>\n",
              "      <th>Gender</th>\n",
              "      <th>Age</th>\n",
              "      <th>X</th>\n",
              "      <th>occupation</th>\n",
              "      <th>Review</th>\n",
              "      <th>Rating</th>\n",
              "      <th>MobileNo</th>\n",
              "      <th>genre</th>\n",
              "    </tr>\n",
              "  </thead>\n",
              "  <tbody>\n",
              "    <tr>\n",
              "      <th>0</th>\n",
              "      <td>1</td>\n",
              "      <td>Toy Story (1995)</td>\n",
              "      <td>Animation|Children's|Comedy</td>\n",
              "      <td>F</td>\n",
              "      <td>1</td>\n",
              "      <td>10</td>\n",
              "      <td>48067</td>\n",
              "      <td>1193</td>\n",
              "      <td>5</td>\n",
              "      <td>978300760</td>\n",
              "      <td>Animation</td>\n",
              "    </tr>\n",
              "    <tr>\n",
              "      <th>1</th>\n",
              "      <td>1</td>\n",
              "      <td>Toy Story (1995)</td>\n",
              "      <td>Animation|Children's|Comedy</td>\n",
              "      <td>F</td>\n",
              "      <td>1</td>\n",
              "      <td>10</td>\n",
              "      <td>48067</td>\n",
              "      <td>661</td>\n",
              "      <td>3</td>\n",
              "      <td>978302109</td>\n",
              "      <td>Animation</td>\n",
              "    </tr>\n",
              "    <tr>\n",
              "      <th>2</th>\n",
              "      <td>1</td>\n",
              "      <td>Toy Story (1995)</td>\n",
              "      <td>Animation|Children's|Comedy</td>\n",
              "      <td>F</td>\n",
              "      <td>1</td>\n",
              "      <td>10</td>\n",
              "      <td>48067</td>\n",
              "      <td>914</td>\n",
              "      <td>3</td>\n",
              "      <td>978301968</td>\n",
              "      <td>Animation</td>\n",
              "    </tr>\n",
              "    <tr>\n",
              "      <th>3</th>\n",
              "      <td>1</td>\n",
              "      <td>Toy Story (1995)</td>\n",
              "      <td>Animation|Children's|Comedy</td>\n",
              "      <td>F</td>\n",
              "      <td>1</td>\n",
              "      <td>10</td>\n",
              "      <td>48067</td>\n",
              "      <td>3408</td>\n",
              "      <td>4</td>\n",
              "      <td>978300275</td>\n",
              "      <td>Animation</td>\n",
              "    </tr>\n",
              "    <tr>\n",
              "      <th>4</th>\n",
              "      <td>1</td>\n",
              "      <td>Toy Story (1995)</td>\n",
              "      <td>Animation|Children's|Comedy</td>\n",
              "      <td>F</td>\n",
              "      <td>1</td>\n",
              "      <td>10</td>\n",
              "      <td>48067</td>\n",
              "      <td>2355</td>\n",
              "      <td>5</td>\n",
              "      <td>978824291</td>\n",
              "      <td>Animation</td>\n",
              "    </tr>\n",
              "  </tbody>\n",
              "</table>\n",
              "</div>"
            ],
            "text/plain": [
              "   Id             Title  ...   MobileNo      genre\n",
              "0   1  Toy Story (1995)  ...  978300760  Animation\n",
              "1   1  Toy Story (1995)  ...  978302109  Animation\n",
              "2   1  Toy Story (1995)  ...  978301968  Animation\n",
              "3   1  Toy Story (1995)  ...  978300275  Animation\n",
              "4   1  Toy Story (1995)  ...  978824291  Animation\n",
              "\n",
              "[5 rows x 11 columns]"
            ]
          },
          "metadata": {
            "tags": []
          },
          "execution_count": 40
        }
      ]
    },
    {
      "cell_type": "markdown",
      "metadata": {
        "id": "gH-SecpPRil9",
        "colab_type": "text"
      },
      "source": [
        "##### Create a separate column for each genre category with a one hot encoding ( 1 and 0) whether or not the movie belong to that genre. \n"
      ]
    },
    {
      "cell_type": "code",
      "metadata": {
        "id": "swdrcZaSRil-",
        "colab_type": "code",
        "colab": {}
      },
      "source": [
        "x = master.values"
      ],
      "execution_count": null,
      "outputs": []
    },
    {
      "cell_type": "markdown",
      "metadata": {
        "id": "Oq9VRaCsRimA",
        "colab_type": "text"
      },
      "source": [
        "### Importing LAbelEncoder Class with onehotencoder"
      ]
    },
    {
      "cell_type": "code",
      "metadata": {
        "scrolled": true,
        "id": "rEvBBDDaRimB",
        "colab_type": "code",
        "colab": {
          "base_uri": "https://localhost:8080/",
          "height": 215
        },
        "outputId": "a3b8e378-100a-438a-a403-971595762a3d"
      },
      "source": [
        "\n",
        "from sklearn.preprocessing import LabelEncoder , OneHotEncoder\n",
        "## Creating an object for LabelEncoder\n",
        "labelencoder_iv = LabelEncoder()\n",
        "\n",
        "x[:,10]=labelencoder_iv.fit_transform(x[:,10])\n",
        "\n",
        "onehotencoder = OneHotEncoder(categorical_features='all')\n",
        "iv= onehotencoder.fit_transform(x).toarray()\n"
      ],
      "execution_count": null,
      "outputs": [
        {
          "output_type": "error",
          "ename": "TypeError",
          "evalue": "ignored",
          "traceback": [
            "\u001b[0;31m---------------------------------------------------------------------------\u001b[0m",
            "\u001b[0;31mTypeError\u001b[0m                                 Traceback (most recent call last)",
            "\u001b[0;32m<ipython-input-42-705e8e54f675>\u001b[0m in \u001b[0;36m<module>\u001b[0;34m()\u001b[0m\n\u001b[1;32m      6\u001b[0m \u001b[0mx\u001b[0m\u001b[0;34m[\u001b[0m\u001b[0;34m:\u001b[0m\u001b[0;34m,\u001b[0m\u001b[0;36m10\u001b[0m\u001b[0;34m]\u001b[0m\u001b[0;34m=\u001b[0m\u001b[0mlabelencoder_iv\u001b[0m\u001b[0;34m.\u001b[0m\u001b[0mfit_transform\u001b[0m\u001b[0;34m(\u001b[0m\u001b[0mx\u001b[0m\u001b[0;34m[\u001b[0m\u001b[0;34m:\u001b[0m\u001b[0;34m,\u001b[0m\u001b[0;36m10\u001b[0m\u001b[0;34m]\u001b[0m\u001b[0;34m)\u001b[0m\u001b[0;34m\u001b[0m\u001b[0;34m\u001b[0m\u001b[0m\n\u001b[1;32m      7\u001b[0m \u001b[0;34m\u001b[0m\u001b[0m\n\u001b[0;32m----> 8\u001b[0;31m \u001b[0monehotencoder\u001b[0m \u001b[0;34m=\u001b[0m \u001b[0mOneHotEncoder\u001b[0m\u001b[0;34m(\u001b[0m\u001b[0mcategorical_features\u001b[0m\u001b[0;34m=\u001b[0m\u001b[0;34m'all'\u001b[0m\u001b[0;34m)\u001b[0m\u001b[0;34m\u001b[0m\u001b[0;34m\u001b[0m\u001b[0m\n\u001b[0m\u001b[1;32m      9\u001b[0m \u001b[0miv\u001b[0m\u001b[0;34m=\u001b[0m \u001b[0monehotencoder\u001b[0m\u001b[0;34m.\u001b[0m\u001b[0mfit_transform\u001b[0m\u001b[0;34m(\u001b[0m\u001b[0mx\u001b[0m\u001b[0;34m)\u001b[0m\u001b[0;34m.\u001b[0m\u001b[0mtoarray\u001b[0m\u001b[0;34m(\u001b[0m\u001b[0;34m)\u001b[0m\u001b[0;34m\u001b[0m\u001b[0;34m\u001b[0m\u001b[0m\n",
            "\u001b[0;31mTypeError\u001b[0m: __init__() got an unexpected keyword argument 'categorical_features'"
          ]
        }
      ]
    },
    {
      "cell_type": "code",
      "metadata": {
        "id": "tCUpC1o6RimD",
        "colab_type": "code",
        "colab": {
          "base_uri": "https://localhost:8080/",
          "height": 164
        },
        "outputId": "a2c0551f-190d-4d56-c077-973ce2cc17c9"
      },
      "source": [
        "iv.shape"
      ],
      "execution_count": null,
      "outputs": [
        {
          "output_type": "error",
          "ename": "NameError",
          "evalue": "ignored",
          "traceback": [
            "\u001b[0;31m---------------------------------------------------------------------------\u001b[0m",
            "\u001b[0;31mNameError\u001b[0m                                 Traceback (most recent call last)",
            "\u001b[0;32m<ipython-input-43-11a668072a31>\u001b[0m in \u001b[0;36m<module>\u001b[0;34m()\u001b[0m\n\u001b[0;32m----> 1\u001b[0;31m \u001b[0miv\u001b[0m\u001b[0;34m.\u001b[0m\u001b[0mshape\u001b[0m\u001b[0;34m\u001b[0m\u001b[0;34m\u001b[0m\u001b[0m\n\u001b[0m",
            "\u001b[0;31mNameError\u001b[0m: name 'iv' is not defined"
          ]
        }
      ]
    },
    {
      "cell_type": "code",
      "metadata": {
        "id": "1P6f41n-RimF",
        "colab_type": "code",
        "colab": {
          "base_uri": "https://localhost:8080/",
          "height": 164
        },
        "outputId": "0ba4c580-1157-473a-a4b3-21687e028b50"
      },
      "source": [
        "iv = pd.DataFrame(iv)"
      ],
      "execution_count": null,
      "outputs": [
        {
          "output_type": "error",
          "ename": "NameError",
          "evalue": "ignored",
          "traceback": [
            "\u001b[0;31m---------------------------------------------------------------------------\u001b[0m",
            "\u001b[0;31mNameError\u001b[0m                                 Traceback (most recent call last)",
            "\u001b[0;32m<ipython-input-44-d7394b490790>\u001b[0m in \u001b[0;36m<module>\u001b[0;34m()\u001b[0m\n\u001b[0;32m----> 1\u001b[0;31m \u001b[0miv\u001b[0m \u001b[0;34m=\u001b[0m \u001b[0mpd\u001b[0m\u001b[0;34m.\u001b[0m\u001b[0mDataFrame\u001b[0m\u001b[0;34m(\u001b[0m\u001b[0miv\u001b[0m\u001b[0;34m)\u001b[0m\u001b[0;34m\u001b[0m\u001b[0;34m\u001b[0m\u001b[0m\n\u001b[0m",
            "\u001b[0;31mNameError\u001b[0m: name 'iv' is not defined"
          ]
        }
      ]
    },
    {
      "cell_type": "code",
      "metadata": {
        "id": "8vXXBDZqRimG",
        "colab_type": "code",
        "colab": {
          "base_uri": "https://localhost:8080/",
          "height": 164
        },
        "outputId": "e83552c6-1992-4541-9511-1e7613bb5c9b"
      },
      "source": [
        "iv.head()"
      ],
      "execution_count": null,
      "outputs": [
        {
          "output_type": "error",
          "ename": "NameError",
          "evalue": "ignored",
          "traceback": [
            "\u001b[0;31m---------------------------------------------------------------------------\u001b[0m",
            "\u001b[0;31mNameError\u001b[0m                                 Traceback (most recent call last)",
            "\u001b[0;32m<ipython-input-45-0ea889a705c8>\u001b[0m in \u001b[0;36m<module>\u001b[0;34m()\u001b[0m\n\u001b[0;32m----> 1\u001b[0;31m \u001b[0miv\u001b[0m\u001b[0;34m.\u001b[0m\u001b[0mhead\u001b[0m\u001b[0;34m(\u001b[0m\u001b[0;34m)\u001b[0m\u001b[0;34m\u001b[0m\u001b[0;34m\u001b[0m\u001b[0m\n\u001b[0m",
            "\u001b[0;31mNameError\u001b[0m: name 'iv' is not defined"
          ]
        }
      ]
    },
    {
      "cell_type": "markdown",
      "metadata": {
        "id": "bRGDq_vRRimI",
        "colab_type": "text"
      },
      "source": [
        "# Linear Regression Model"
      ]
    },
    {
      "cell_type": "markdown",
      "metadata": {
        "id": "Ot2TwRvcRimI",
        "colab_type": "text"
      },
      "source": [
        "### Master dataset with sub dataset of Movies,Users and Rating\n",
        "#### head() to view the top 5 row of the master dataset"
      ]
    },
    {
      "cell_type": "code",
      "metadata": {
        "id": "xT8NLL5BRimJ",
        "colab_type": "code",
        "colab": {
          "base_uri": "https://localhost:8080/",
          "height": 204
        },
        "outputId": "314c5b38-22a1-4e38-ca2a-0026647c4e67"
      },
      "source": [
        "master.head()"
      ],
      "execution_count": null,
      "outputs": [
        {
          "output_type": "execute_result",
          "data": {
            "text/html": [
              "<div>\n",
              "<style scoped>\n",
              "    .dataframe tbody tr th:only-of-type {\n",
              "        vertical-align: middle;\n",
              "    }\n",
              "\n",
              "    .dataframe tbody tr th {\n",
              "        vertical-align: top;\n",
              "    }\n",
              "\n",
              "    .dataframe thead th {\n",
              "        text-align: right;\n",
              "    }\n",
              "</style>\n",
              "<table border=\"1\" class=\"dataframe\">\n",
              "  <thead>\n",
              "    <tr style=\"text-align: right;\">\n",
              "      <th></th>\n",
              "      <th>Id</th>\n",
              "      <th>Title</th>\n",
              "      <th>Genre</th>\n",
              "      <th>Gender</th>\n",
              "      <th>Age</th>\n",
              "      <th>X</th>\n",
              "      <th>occupation</th>\n",
              "      <th>Review</th>\n",
              "      <th>Rating</th>\n",
              "      <th>MobileNo</th>\n",
              "      <th>genre</th>\n",
              "    </tr>\n",
              "  </thead>\n",
              "  <tbody>\n",
              "    <tr>\n",
              "      <th>0</th>\n",
              "      <td>1</td>\n",
              "      <td>Toy Story (1995)</td>\n",
              "      <td>Animation|Children's|Comedy</td>\n",
              "      <td>F</td>\n",
              "      <td>1</td>\n",
              "      <td>10</td>\n",
              "      <td>48067</td>\n",
              "      <td>1193</td>\n",
              "      <td>5</td>\n",
              "      <td>978300760</td>\n",
              "      <td>Animation</td>\n",
              "    </tr>\n",
              "    <tr>\n",
              "      <th>1</th>\n",
              "      <td>1</td>\n",
              "      <td>Toy Story (1995)</td>\n",
              "      <td>Animation|Children's|Comedy</td>\n",
              "      <td>F</td>\n",
              "      <td>1</td>\n",
              "      <td>10</td>\n",
              "      <td>48067</td>\n",
              "      <td>661</td>\n",
              "      <td>3</td>\n",
              "      <td>978302109</td>\n",
              "      <td>Animation</td>\n",
              "    </tr>\n",
              "    <tr>\n",
              "      <th>2</th>\n",
              "      <td>1</td>\n",
              "      <td>Toy Story (1995)</td>\n",
              "      <td>Animation|Children's|Comedy</td>\n",
              "      <td>F</td>\n",
              "      <td>1</td>\n",
              "      <td>10</td>\n",
              "      <td>48067</td>\n",
              "      <td>914</td>\n",
              "      <td>3</td>\n",
              "      <td>978301968</td>\n",
              "      <td>Animation</td>\n",
              "    </tr>\n",
              "    <tr>\n",
              "      <th>3</th>\n",
              "      <td>1</td>\n",
              "      <td>Toy Story (1995)</td>\n",
              "      <td>Animation|Children's|Comedy</td>\n",
              "      <td>F</td>\n",
              "      <td>1</td>\n",
              "      <td>10</td>\n",
              "      <td>48067</td>\n",
              "      <td>3408</td>\n",
              "      <td>4</td>\n",
              "      <td>978300275</td>\n",
              "      <td>Animation</td>\n",
              "    </tr>\n",
              "    <tr>\n",
              "      <th>4</th>\n",
              "      <td>1</td>\n",
              "      <td>Toy Story (1995)</td>\n",
              "      <td>Animation|Children's|Comedy</td>\n",
              "      <td>F</td>\n",
              "      <td>1</td>\n",
              "      <td>10</td>\n",
              "      <td>48067</td>\n",
              "      <td>2355</td>\n",
              "      <td>5</td>\n",
              "      <td>978824291</td>\n",
              "      <td>Animation</td>\n",
              "    </tr>\n",
              "  </tbody>\n",
              "</table>\n",
              "</div>"
            ],
            "text/plain": [
              "   Id             Title  ...   MobileNo      genre\n",
              "0   1  Toy Story (1995)  ...  978300760  Animation\n",
              "1   1  Toy Story (1995)  ...  978302109  Animation\n",
              "2   1  Toy Story (1995)  ...  978301968  Animation\n",
              "3   1  Toy Story (1995)  ...  978300275  Animation\n",
              "4   1  Toy Story (1995)  ...  978824291  Animation\n",
              "\n",
              "[5 rows x 11 columns]"
            ]
          },
          "metadata": {
            "tags": []
          },
          "execution_count": 46
        }
      ]
    },
    {
      "cell_type": "markdown",
      "metadata": {
        "id": "X0fIx3IeRimK",
        "colab_type": "text"
      },
      "source": [
        "#### Droping the columns which is less significane to the dataset"
      ]
    },
    {
      "cell_type": "code",
      "metadata": {
        "id": "8ZV78wquRimL",
        "colab_type": "code",
        "colab": {}
      },
      "source": [
        "master.drop(labels = ['Title','Genre','MobileNo','occupation','X'],axis =1,inplace = True)"
      ],
      "execution_count": null,
      "outputs": []
    },
    {
      "cell_type": "markdown",
      "metadata": {
        "id": "gVrOFK93RimN",
        "colab_type": "text"
      },
      "source": [
        "#### Creating the dummies of Gender and genre in the dataset"
      ]
    },
    {
      "cell_type": "code",
      "metadata": {
        "id": "9kMAw1EHRimN",
        "colab_type": "code",
        "colab": {}
      },
      "source": [
        "dummy_cities=pd.get_dummies(master['Gender'])\n",
        "master=pd.concat([master,dummy_cities],axis=1)"
      ],
      "execution_count": null,
      "outputs": []
    },
    {
      "cell_type": "code",
      "metadata": {
        "id": "QwwqvMfSRimP",
        "colab_type": "code",
        "colab": {}
      },
      "source": [
        "dummy_cities=pd.get_dummies(master['genre'])\n",
        "master=pd.concat([master,dummy_cities],axis=1)"
      ],
      "execution_count": null,
      "outputs": []
    },
    {
      "cell_type": "code",
      "metadata": {
        "id": "ta3pLiY8RimQ",
        "colab_type": "code",
        "colab": {
          "base_uri": "https://localhost:8080/",
          "height": 34
        },
        "outputId": "d8cdfb14-ec2d-4eb1-ba6d-437e13084a66"
      },
      "source": [
        "master.shape"
      ],
      "execution_count": null,
      "outputs": [
        {
          "output_type": "execute_result",
          "data": {
            "text/plain": [
              "(645833, 26)"
            ]
          },
          "metadata": {
            "tags": []
          },
          "execution_count": 50
        }
      ]
    },
    {
      "cell_type": "markdown",
      "metadata": {
        "id": "HFzN6KayRimS",
        "colab_type": "text"
      },
      "source": [
        "#### After creating the dummies droping the orginal column from the dataset"
      ]
    },
    {
      "cell_type": "code",
      "metadata": {
        "id": "OxIzUSHERimS",
        "colab_type": "code",
        "colab": {}
      },
      "source": [
        "master.drop(labels = ['genre'],axis =1,inplace = True)"
      ],
      "execution_count": null,
      "outputs": []
    },
    {
      "cell_type": "code",
      "metadata": {
        "id": "j1crV833RimV",
        "colab_type": "code",
        "colab": {}
      },
      "source": [
        "master.drop(labels = ['Gender'],axis =1,inplace = True)"
      ],
      "execution_count": null,
      "outputs": []
    },
    {
      "cell_type": "code",
      "metadata": {
        "id": "vfhTjrOWRimZ",
        "colab_type": "code",
        "colab": {}
      },
      "source": [
        "# master.drop(labels = ['Age'],axis =1,inplace = True)"
      ],
      "execution_count": null,
      "outputs": []
    },
    {
      "cell_type": "code",
      "metadata": {
        "id": "i3PJLy3DRimd",
        "colab_type": "code",
        "colab": {
          "base_uri": "https://localhost:8080/",
          "height": 34
        },
        "outputId": "8e8b535f-196a-47a1-d539-55e07b1d3440"
      },
      "source": [
        "master.Id.nunique()"
      ],
      "execution_count": null,
      "outputs": [
        {
          "output_type": "execute_result",
          "data": {
            "text/plain": [
              "3883"
            ]
          },
          "metadata": {
            "tags": []
          },
          "execution_count": 54
        }
      ]
    },
    {
      "cell_type": "code",
      "metadata": {
        "id": "XnngWKjURimf",
        "colab_type": "code",
        "colab": {
          "base_uri": "https://localhost:8080/",
          "height": 34
        },
        "outputId": "b56cd6e2-0816-4838-e7ac-80a107f2414c"
      },
      "source": [
        "master.shape"
      ],
      "execution_count": null,
      "outputs": [
        {
          "output_type": "execute_result",
          "data": {
            "text/plain": [
              "(645833, 24)"
            ]
          },
          "metadata": {
            "tags": []
          },
          "execution_count": 55
        }
      ]
    },
    {
      "cell_type": "markdown",
      "metadata": {
        "id": "F8vgCphSRimi",
        "colab_type": "text"
      },
      "source": [
        "#### Master dataset view after creating the dummies"
      ]
    },
    {
      "cell_type": "code",
      "metadata": {
        "id": "NrUlEBMXRimj",
        "colab_type": "code",
        "colab": {
          "base_uri": "https://localhost:8080/",
          "height": 241
        },
        "outputId": "b0c49fb7-1e7f-4a6d-b2ba-91bc2ec4b659"
      },
      "source": [
        "master.head()"
      ],
      "execution_count": null,
      "outputs": [
        {
          "output_type": "execute_result",
          "data": {
            "text/html": [
              "<div>\n",
              "<style scoped>\n",
              "    .dataframe tbody tr th:only-of-type {\n",
              "        vertical-align: middle;\n",
              "    }\n",
              "\n",
              "    .dataframe tbody tr th {\n",
              "        vertical-align: top;\n",
              "    }\n",
              "\n",
              "    .dataframe thead th {\n",
              "        text-align: right;\n",
              "    }\n",
              "</style>\n",
              "<table border=\"1\" class=\"dataframe\">\n",
              "  <thead>\n",
              "    <tr style=\"text-align: right;\">\n",
              "      <th></th>\n",
              "      <th>Id</th>\n",
              "      <th>Age</th>\n",
              "      <th>Review</th>\n",
              "      <th>Rating</th>\n",
              "      <th>F</th>\n",
              "      <th>M</th>\n",
              "      <th>Action</th>\n",
              "      <th>Adventure</th>\n",
              "      <th>Animation</th>\n",
              "      <th>Children's</th>\n",
              "      <th>Comedy</th>\n",
              "      <th>Crime</th>\n",
              "      <th>Documentary</th>\n",
              "      <th>Drama</th>\n",
              "      <th>Fantasy</th>\n",
              "      <th>Film-Noir</th>\n",
              "      <th>Horror</th>\n",
              "      <th>Musical</th>\n",
              "      <th>Mystery</th>\n",
              "      <th>Romance</th>\n",
              "      <th>Sci-Fi</th>\n",
              "      <th>Thriller</th>\n",
              "      <th>War</th>\n",
              "      <th>Western</th>\n",
              "    </tr>\n",
              "  </thead>\n",
              "  <tbody>\n",
              "    <tr>\n",
              "      <th>0</th>\n",
              "      <td>1</td>\n",
              "      <td>1</td>\n",
              "      <td>1193</td>\n",
              "      <td>5</td>\n",
              "      <td>1</td>\n",
              "      <td>0</td>\n",
              "      <td>0</td>\n",
              "      <td>0</td>\n",
              "      <td>1</td>\n",
              "      <td>0</td>\n",
              "      <td>0</td>\n",
              "      <td>0</td>\n",
              "      <td>0</td>\n",
              "      <td>0</td>\n",
              "      <td>0</td>\n",
              "      <td>0</td>\n",
              "      <td>0</td>\n",
              "      <td>0</td>\n",
              "      <td>0</td>\n",
              "      <td>0</td>\n",
              "      <td>0</td>\n",
              "      <td>0</td>\n",
              "      <td>0</td>\n",
              "      <td>0</td>\n",
              "    </tr>\n",
              "    <tr>\n",
              "      <th>1</th>\n",
              "      <td>1</td>\n",
              "      <td>1</td>\n",
              "      <td>661</td>\n",
              "      <td>3</td>\n",
              "      <td>1</td>\n",
              "      <td>0</td>\n",
              "      <td>0</td>\n",
              "      <td>0</td>\n",
              "      <td>1</td>\n",
              "      <td>0</td>\n",
              "      <td>0</td>\n",
              "      <td>0</td>\n",
              "      <td>0</td>\n",
              "      <td>0</td>\n",
              "      <td>0</td>\n",
              "      <td>0</td>\n",
              "      <td>0</td>\n",
              "      <td>0</td>\n",
              "      <td>0</td>\n",
              "      <td>0</td>\n",
              "      <td>0</td>\n",
              "      <td>0</td>\n",
              "      <td>0</td>\n",
              "      <td>0</td>\n",
              "    </tr>\n",
              "    <tr>\n",
              "      <th>2</th>\n",
              "      <td>1</td>\n",
              "      <td>1</td>\n",
              "      <td>914</td>\n",
              "      <td>3</td>\n",
              "      <td>1</td>\n",
              "      <td>0</td>\n",
              "      <td>0</td>\n",
              "      <td>0</td>\n",
              "      <td>1</td>\n",
              "      <td>0</td>\n",
              "      <td>0</td>\n",
              "      <td>0</td>\n",
              "      <td>0</td>\n",
              "      <td>0</td>\n",
              "      <td>0</td>\n",
              "      <td>0</td>\n",
              "      <td>0</td>\n",
              "      <td>0</td>\n",
              "      <td>0</td>\n",
              "      <td>0</td>\n",
              "      <td>0</td>\n",
              "      <td>0</td>\n",
              "      <td>0</td>\n",
              "      <td>0</td>\n",
              "    </tr>\n",
              "    <tr>\n",
              "      <th>3</th>\n",
              "      <td>1</td>\n",
              "      <td>1</td>\n",
              "      <td>3408</td>\n",
              "      <td>4</td>\n",
              "      <td>1</td>\n",
              "      <td>0</td>\n",
              "      <td>0</td>\n",
              "      <td>0</td>\n",
              "      <td>1</td>\n",
              "      <td>0</td>\n",
              "      <td>0</td>\n",
              "      <td>0</td>\n",
              "      <td>0</td>\n",
              "      <td>0</td>\n",
              "      <td>0</td>\n",
              "      <td>0</td>\n",
              "      <td>0</td>\n",
              "      <td>0</td>\n",
              "      <td>0</td>\n",
              "      <td>0</td>\n",
              "      <td>0</td>\n",
              "      <td>0</td>\n",
              "      <td>0</td>\n",
              "      <td>0</td>\n",
              "    </tr>\n",
              "    <tr>\n",
              "      <th>4</th>\n",
              "      <td>1</td>\n",
              "      <td>1</td>\n",
              "      <td>2355</td>\n",
              "      <td>5</td>\n",
              "      <td>1</td>\n",
              "      <td>0</td>\n",
              "      <td>0</td>\n",
              "      <td>0</td>\n",
              "      <td>1</td>\n",
              "      <td>0</td>\n",
              "      <td>0</td>\n",
              "      <td>0</td>\n",
              "      <td>0</td>\n",
              "      <td>0</td>\n",
              "      <td>0</td>\n",
              "      <td>0</td>\n",
              "      <td>0</td>\n",
              "      <td>0</td>\n",
              "      <td>0</td>\n",
              "      <td>0</td>\n",
              "      <td>0</td>\n",
              "      <td>0</td>\n",
              "      <td>0</td>\n",
              "      <td>0</td>\n",
              "    </tr>\n",
              "  </tbody>\n",
              "</table>\n",
              "</div>"
            ],
            "text/plain": [
              "   Id  Age  Review  Rating  F  ...  Romance  Sci-Fi  Thriller  War  Western\n",
              "0   1    1    1193       5  1  ...        0       0         0    0        0\n",
              "1   1    1     661       3  1  ...        0       0         0    0        0\n",
              "2   1    1     914       3  1  ...        0       0         0    0        0\n",
              "3   1    1    3408       4  1  ...        0       0         0    0        0\n",
              "4   1    1    2355       5  1  ...        0       0         0    0        0\n",
              "\n",
              "[5 rows x 24 columns]"
            ]
          },
          "metadata": {
            "tags": []
          },
          "execution_count": 56
        }
      ]
    },
    {
      "cell_type": "markdown",
      "metadata": {
        "id": "RFqYFybIRiml",
        "colab_type": "text"
      },
      "source": [
        "### Dividing the Dataset into independent and dependent variables"
      ]
    },
    {
      "cell_type": "code",
      "metadata": {
        "id": "A3_f_WGXRimm",
        "colab_type": "code",
        "colab": {}
      },
      "source": [
        "dv = master[['Review']]"
      ],
      "execution_count": null,
      "outputs": []
    },
    {
      "cell_type": "code",
      "metadata": {
        "id": "5OK19aItRimo",
        "colab_type": "code",
        "colab": {}
      },
      "source": [
        "iv = master[['Id', 'Rating', 'F', 'M', 'Action', 'Adventure',\n",
        "       'Animation', \"Children's\", 'Comedy', 'Crime', 'Documentary', 'Drama',\n",
        "       'Fantasy', 'Film-Noir', 'Horror', 'Musical', 'Mystery', 'Romance',\n",
        "       'Sci-Fi', 'Thriller', 'War', 'Western']]"
      ],
      "execution_count": null,
      "outputs": []
    },
    {
      "cell_type": "markdown",
      "metadata": {
        "id": "hetgnjDsRimq",
        "colab_type": "text"
      },
      "source": [
        "### Splitting the master dataset into training and testing with ratio of 80:20 at random sample 0"
      ]
    },
    {
      "cell_type": "code",
      "metadata": {
        "id": "OnMlWascRimq",
        "colab_type": "code",
        "colab": {}
      },
      "source": [
        "from sklearn.model_selection import train_test_split\n",
        "X_train,X_test,y_train,y_test = train_test_split(iv,dv,test_size = 0.20,random_state = 0)"
      ],
      "execution_count": null,
      "outputs": []
    },
    {
      "cell_type": "markdown",
      "metadata": {
        "id": "JQyevzhYRims",
        "colab_type": "text"
      },
      "source": [
        "#### After splitting the dataset shape of the training and testing"
      ]
    },
    {
      "cell_type": "code",
      "metadata": {
        "id": "7ygs6JfIRims",
        "colab_type": "code",
        "colab": {
          "base_uri": "https://localhost:8080/",
          "height": 85
        },
        "outputId": "83e7d1b0-166b-4bde-bf8a-9586789393bc"
      },
      "source": [
        "print(X_train.shape)\n",
        "print(X_test.shape)\n",
        "print(y_train.shape)\n",
        "print(y_test.shape)"
      ],
      "execution_count": null,
      "outputs": [
        {
          "output_type": "stream",
          "text": [
            "(516666, 22)\n",
            "(129167, 22)\n",
            "(516666, 1)\n",
            "(129167, 1)\n"
          ],
          "name": "stdout"
        }
      ]
    },
    {
      "cell_type": "code",
      "metadata": {
        "id": "ZsvyZ0YfRimu",
        "colab_type": "code",
        "colab": {
          "base_uri": "https://localhost:8080/",
          "height": 241
        },
        "outputId": "a30a34fe-a91c-468e-f861-498ddb8989cf"
      },
      "source": [
        "X_train.head()"
      ],
      "execution_count": null,
      "outputs": [
        {
          "output_type": "execute_result",
          "data": {
            "text/html": [
              "<div>\n",
              "<style scoped>\n",
              "    .dataframe tbody tr th:only-of-type {\n",
              "        vertical-align: middle;\n",
              "    }\n",
              "\n",
              "    .dataframe tbody tr th {\n",
              "        vertical-align: top;\n",
              "    }\n",
              "\n",
              "    .dataframe thead th {\n",
              "        text-align: right;\n",
              "    }\n",
              "</style>\n",
              "<table border=\"1\" class=\"dataframe\">\n",
              "  <thead>\n",
              "    <tr style=\"text-align: right;\">\n",
              "      <th></th>\n",
              "      <th>Id</th>\n",
              "      <th>Rating</th>\n",
              "      <th>F</th>\n",
              "      <th>M</th>\n",
              "      <th>Action</th>\n",
              "      <th>Adventure</th>\n",
              "      <th>Animation</th>\n",
              "      <th>Children's</th>\n",
              "      <th>Comedy</th>\n",
              "      <th>Crime</th>\n",
              "      <th>Documentary</th>\n",
              "      <th>Drama</th>\n",
              "      <th>Fantasy</th>\n",
              "      <th>Film-Noir</th>\n",
              "      <th>Horror</th>\n",
              "      <th>Musical</th>\n",
              "      <th>Mystery</th>\n",
              "      <th>Romance</th>\n",
              "      <th>Sci-Fi</th>\n",
              "      <th>Thriller</th>\n",
              "      <th>War</th>\n",
              "      <th>Western</th>\n",
              "    </tr>\n",
              "  </thead>\n",
              "  <tbody>\n",
              "    <tr>\n",
              "      <th>546426</th>\n",
              "      <td>3419</td>\n",
              "      <td>4</td>\n",
              "      <td>0</td>\n",
              "      <td>1</td>\n",
              "      <td>0</td>\n",
              "      <td>0</td>\n",
              "      <td>0</td>\n",
              "      <td>0</td>\n",
              "      <td>1</td>\n",
              "      <td>0</td>\n",
              "      <td>0</td>\n",
              "      <td>0</td>\n",
              "      <td>0</td>\n",
              "      <td>0</td>\n",
              "      <td>0</td>\n",
              "      <td>0</td>\n",
              "      <td>0</td>\n",
              "      <td>0</td>\n",
              "      <td>0</td>\n",
              "      <td>0</td>\n",
              "      <td>0</td>\n",
              "      <td>0</td>\n",
              "    </tr>\n",
              "    <tr>\n",
              "      <th>59805</th>\n",
              "      <td>408</td>\n",
              "      <td>5</td>\n",
              "      <td>0</td>\n",
              "      <td>1</td>\n",
              "      <td>0</td>\n",
              "      <td>0</td>\n",
              "      <td>0</td>\n",
              "      <td>0</td>\n",
              "      <td>0</td>\n",
              "      <td>0</td>\n",
              "      <td>0</td>\n",
              "      <td>1</td>\n",
              "      <td>0</td>\n",
              "      <td>0</td>\n",
              "      <td>0</td>\n",
              "      <td>0</td>\n",
              "      <td>0</td>\n",
              "      <td>0</td>\n",
              "      <td>0</td>\n",
              "      <td>0</td>\n",
              "      <td>0</td>\n",
              "      <td>0</td>\n",
              "    </tr>\n",
              "    <tr>\n",
              "      <th>245916</th>\n",
              "      <td>1509</td>\n",
              "      <td>2</td>\n",
              "      <td>0</td>\n",
              "      <td>1</td>\n",
              "      <td>0</td>\n",
              "      <td>0</td>\n",
              "      <td>0</td>\n",
              "      <td>0</td>\n",
              "      <td>0</td>\n",
              "      <td>0</td>\n",
              "      <td>0</td>\n",
              "      <td>1</td>\n",
              "      <td>0</td>\n",
              "      <td>0</td>\n",
              "      <td>0</td>\n",
              "      <td>0</td>\n",
              "      <td>0</td>\n",
              "      <td>0</td>\n",
              "      <td>0</td>\n",
              "      <td>0</td>\n",
              "      <td>0</td>\n",
              "      <td>0</td>\n",
              "    </tr>\n",
              "    <tr>\n",
              "      <th>575514</th>\n",
              "      <td>3576</td>\n",
              "      <td>3</td>\n",
              "      <td>0</td>\n",
              "      <td>1</td>\n",
              "      <td>1</td>\n",
              "      <td>0</td>\n",
              "      <td>0</td>\n",
              "      <td>0</td>\n",
              "      <td>0</td>\n",
              "      <td>0</td>\n",
              "      <td>0</td>\n",
              "      <td>0</td>\n",
              "      <td>0</td>\n",
              "      <td>0</td>\n",
              "      <td>0</td>\n",
              "      <td>0</td>\n",
              "      <td>0</td>\n",
              "      <td>0</td>\n",
              "      <td>0</td>\n",
              "      <td>0</td>\n",
              "      <td>0</td>\n",
              "      <td>0</td>\n",
              "    </tr>\n",
              "    <tr>\n",
              "      <th>293692</th>\n",
              "      <td>1797</td>\n",
              "      <td>5</td>\n",
              "      <td>0</td>\n",
              "      <td>1</td>\n",
              "      <td>0</td>\n",
              "      <td>0</td>\n",
              "      <td>0</td>\n",
              "      <td>0</td>\n",
              "      <td>0</td>\n",
              "      <td>0</td>\n",
              "      <td>1</td>\n",
              "      <td>0</td>\n",
              "      <td>0</td>\n",
              "      <td>0</td>\n",
              "      <td>0</td>\n",
              "      <td>0</td>\n",
              "      <td>0</td>\n",
              "      <td>0</td>\n",
              "      <td>0</td>\n",
              "      <td>0</td>\n",
              "      <td>0</td>\n",
              "      <td>0</td>\n",
              "    </tr>\n",
              "  </tbody>\n",
              "</table>\n",
              "</div>"
            ],
            "text/plain": [
              "          Id  Rating  F  M  Action  ...  Romance  Sci-Fi  Thriller  War  Western\n",
              "546426  3419       4  0  1       0  ...        0       0         0    0        0\n",
              "59805    408       5  0  1       0  ...        0       0         0    0        0\n",
              "245916  1509       2  0  1       0  ...        0       0         0    0        0\n",
              "575514  3576       3  0  1       1  ...        0       0         0    0        0\n",
              "293692  1797       5  0  1       0  ...        0       0         0    0        0\n",
              "\n",
              "[5 rows x 22 columns]"
            ]
          },
          "metadata": {
            "tags": []
          },
          "execution_count": 61
        }
      ]
    },
    {
      "cell_type": "code",
      "metadata": {
        "id": "L1VgbueLRimw",
        "colab_type": "code",
        "colab": {}
      },
      "source": [
        "X_train = X_train.values"
      ],
      "execution_count": null,
      "outputs": []
    },
    {
      "cell_type": "code",
      "metadata": {
        "id": "KM6QcVg5Rimz",
        "colab_type": "code",
        "colab": {}
      },
      "source": [
        "X_test  = X_test.values"
      ],
      "execution_count": null,
      "outputs": []
    },
    {
      "cell_type": "code",
      "metadata": {
        "id": "ZGH9DQQFRim0",
        "colab_type": "code",
        "colab": {}
      },
      "source": [
        "y_train = y_train.values"
      ],
      "execution_count": null,
      "outputs": []
    },
    {
      "cell_type": "markdown",
      "metadata": {
        "id": "rVeJeISsRim2",
        "colab_type": "text"
      },
      "source": [
        "# Feature Scaling"
      ]
    },
    {
      "cell_type": "code",
      "metadata": {
        "id": "mL9oQkY4Rim2",
        "colab_type": "code",
        "colab": {}
      },
      "source": [
        "\n",
        "from sklearn.preprocessing import StandardScaler\n",
        "sc = StandardScaler()\n",
        "X_train[:,[0,1]] = sc.fit_transform(X_train[:,[0,1]])\n",
        "X_test[:,[0,1]] = sc.fit_transform(X_test[:,[0,1]])\n",
        "\n",
        "y_train[:,[0]] = sc.fit_transform(y_train[:,[0]])"
      ],
      "execution_count": null,
      "outputs": []
    },
    {
      "cell_type": "code",
      "metadata": {
        "id": "wXexEaFJRim4",
        "colab_type": "code",
        "colab": {
          "base_uri": "https://localhost:8080/",
          "height": 204
        },
        "outputId": "53b02d14-30fa-4373-b253-061518646191"
      },
      "source": [
        "X= pd.DataFrame(X_train)\n",
        "X.head()"
      ],
      "execution_count": null,
      "outputs": [
        {
          "output_type": "execute_result",
          "data": {
            "text/html": [
              "<div>\n",
              "<style scoped>\n",
              "    .dataframe tbody tr th:only-of-type {\n",
              "        vertical-align: middle;\n",
              "    }\n",
              "\n",
              "    .dataframe tbody tr th {\n",
              "        vertical-align: top;\n",
              "    }\n",
              "\n",
              "    .dataframe thead th {\n",
              "        text-align: right;\n",
              "    }\n",
              "</style>\n",
              "<table border=\"1\" class=\"dataframe\">\n",
              "  <thead>\n",
              "    <tr style=\"text-align: right;\">\n",
              "      <th></th>\n",
              "      <th>0</th>\n",
              "      <th>1</th>\n",
              "      <th>2</th>\n",
              "      <th>3</th>\n",
              "      <th>4</th>\n",
              "      <th>5</th>\n",
              "      <th>6</th>\n",
              "      <th>7</th>\n",
              "      <th>8</th>\n",
              "      <th>9</th>\n",
              "      <th>10</th>\n",
              "      <th>11</th>\n",
              "      <th>12</th>\n",
              "      <th>13</th>\n",
              "      <th>14</th>\n",
              "      <th>15</th>\n",
              "      <th>16</th>\n",
              "      <th>17</th>\n",
              "      <th>18</th>\n",
              "      <th>19</th>\n",
              "      <th>20</th>\n",
              "      <th>21</th>\n",
              "    </tr>\n",
              "  </thead>\n",
              "  <tbody>\n",
              "    <tr>\n",
              "      <th>0</th>\n",
              "      <td>1</td>\n",
              "      <td>0</td>\n",
              "      <td>0</td>\n",
              "      <td>1</td>\n",
              "      <td>0</td>\n",
              "      <td>0</td>\n",
              "      <td>0</td>\n",
              "      <td>0</td>\n",
              "      <td>1</td>\n",
              "      <td>0</td>\n",
              "      <td>0</td>\n",
              "      <td>0</td>\n",
              "      <td>0</td>\n",
              "      <td>0</td>\n",
              "      <td>0</td>\n",
              "      <td>0</td>\n",
              "      <td>0</td>\n",
              "      <td>0</td>\n",
              "      <td>0</td>\n",
              "      <td>0</td>\n",
              "      <td>0</td>\n",
              "      <td>0</td>\n",
              "    </tr>\n",
              "    <tr>\n",
              "      <th>1</th>\n",
              "      <td>-1</td>\n",
              "      <td>1</td>\n",
              "      <td>0</td>\n",
              "      <td>1</td>\n",
              "      <td>0</td>\n",
              "      <td>0</td>\n",
              "      <td>0</td>\n",
              "      <td>0</td>\n",
              "      <td>0</td>\n",
              "      <td>0</td>\n",
              "      <td>0</td>\n",
              "      <td>1</td>\n",
              "      <td>0</td>\n",
              "      <td>0</td>\n",
              "      <td>0</td>\n",
              "      <td>0</td>\n",
              "      <td>0</td>\n",
              "      <td>0</td>\n",
              "      <td>0</td>\n",
              "      <td>0</td>\n",
              "      <td>0</td>\n",
              "      <td>0</td>\n",
              "    </tr>\n",
              "    <tr>\n",
              "      <th>2</th>\n",
              "      <td>0</td>\n",
              "      <td>-1</td>\n",
              "      <td>0</td>\n",
              "      <td>1</td>\n",
              "      <td>0</td>\n",
              "      <td>0</td>\n",
              "      <td>0</td>\n",
              "      <td>0</td>\n",
              "      <td>0</td>\n",
              "      <td>0</td>\n",
              "      <td>0</td>\n",
              "      <td>1</td>\n",
              "      <td>0</td>\n",
              "      <td>0</td>\n",
              "      <td>0</td>\n",
              "      <td>0</td>\n",
              "      <td>0</td>\n",
              "      <td>0</td>\n",
              "      <td>0</td>\n",
              "      <td>0</td>\n",
              "      <td>0</td>\n",
              "      <td>0</td>\n",
              "    </tr>\n",
              "    <tr>\n",
              "      <th>3</th>\n",
              "      <td>1</td>\n",
              "      <td>0</td>\n",
              "      <td>0</td>\n",
              "      <td>1</td>\n",
              "      <td>1</td>\n",
              "      <td>0</td>\n",
              "      <td>0</td>\n",
              "      <td>0</td>\n",
              "      <td>0</td>\n",
              "      <td>0</td>\n",
              "      <td>0</td>\n",
              "      <td>0</td>\n",
              "      <td>0</td>\n",
              "      <td>0</td>\n",
              "      <td>0</td>\n",
              "      <td>0</td>\n",
              "      <td>0</td>\n",
              "      <td>0</td>\n",
              "      <td>0</td>\n",
              "      <td>0</td>\n",
              "      <td>0</td>\n",
              "      <td>0</td>\n",
              "    </tr>\n",
              "    <tr>\n",
              "      <th>4</th>\n",
              "      <td>0</td>\n",
              "      <td>1</td>\n",
              "      <td>0</td>\n",
              "      <td>1</td>\n",
              "      <td>0</td>\n",
              "      <td>0</td>\n",
              "      <td>0</td>\n",
              "      <td>0</td>\n",
              "      <td>0</td>\n",
              "      <td>0</td>\n",
              "      <td>1</td>\n",
              "      <td>0</td>\n",
              "      <td>0</td>\n",
              "      <td>0</td>\n",
              "      <td>0</td>\n",
              "      <td>0</td>\n",
              "      <td>0</td>\n",
              "      <td>0</td>\n",
              "      <td>0</td>\n",
              "      <td>0</td>\n",
              "      <td>0</td>\n",
              "      <td>0</td>\n",
              "    </tr>\n",
              "  </tbody>\n",
              "</table>\n",
              "</div>"
            ],
            "text/plain": [
              "   0  1  2  3  4  5  6  7  8  9  10  11  12  13  14  15  16  17  18  19  20  21\n",
              "0  1  0  0  1  0  0  0  0  1  0   0   0   0   0   0   0   0   0   0   0   0   0\n",
              "1 -1  1  0  1  0  0  0  0  0  0   0   1   0   0   0   0   0   0   0   0   0   0\n",
              "2  0 -1  0  1  0  0  0  0  0  0   0   1   0   0   0   0   0   0   0   0   0   0\n",
              "3  1  0  0  1  1  0  0  0  0  0   0   0   0   0   0   0   0   0   0   0   0   0\n",
              "4  0  1  0  1  0  0  0  0  0  0   1   0   0   0   0   0   0   0   0   0   0   0"
            ]
          },
          "metadata": {
            "tags": []
          },
          "execution_count": 66
        }
      ]
    },
    {
      "cell_type": "markdown",
      "metadata": {
        "id": "Q9YUJPCvRim7",
        "colab_type": "text"
      },
      "source": [
        "# Linear Regression Model "
      ]
    },
    {
      "cell_type": "code",
      "metadata": {
        "id": "qluVsgWRRim7",
        "colab_type": "code",
        "colab": {}
      },
      "source": [
        "from sklearn.linear_model import LinearRegression\n",
        "x = LinearRegression()\n",
        "model = x.fit(X_train,y_train)"
      ],
      "execution_count": null,
      "outputs": []
    },
    {
      "cell_type": "code",
      "metadata": {
        "id": "iQPnICCJRim8",
        "colab_type": "code",
        "colab": {
          "base_uri": "https://localhost:8080/",
          "height": 34
        },
        "outputId": "3be347bc-1e9b-40bf-8866-297dbe9ea80e"
      },
      "source": [
        "model"
      ],
      "execution_count": null,
      "outputs": [
        {
          "output_type": "execute_result",
          "data": {
            "text/plain": [
              "LinearRegression(copy_X=True, fit_intercept=True, n_jobs=None, normalize=False)"
            ]
          },
          "metadata": {
            "tags": []
          },
          "execution_count": 68
        }
      ]
    },
    {
      "cell_type": "markdown",
      "metadata": {
        "id": "7-Qnrp0ZRim-",
        "colab_type": "text"
      },
      "source": [
        "### Predicting the values on the independent test dataset i.e X_test"
      ]
    },
    {
      "cell_type": "code",
      "metadata": {
        "id": "E-6oteCSRim-",
        "colab_type": "code",
        "colab": {}
      },
      "source": [
        "y_pred = model.predict(X_test)"
      ],
      "execution_count": null,
      "outputs": []
    },
    {
      "cell_type": "code",
      "metadata": {
        "id": "rz-vNDZGRinA",
        "colab_type": "code",
        "colab": {}
      },
      "source": [
        "y_pred = pd.DataFrame(y_pred)"
      ],
      "execution_count": null,
      "outputs": []
    },
    {
      "cell_type": "markdown",
      "metadata": {
        "id": "lTeWLowvRinD",
        "colab_type": "text"
      },
      "source": [
        "## Interpretation of the Model \n",
        "#### R Square of the model\n",
        "#### The coefficient of the independent variables\n",
        "#### The intercept of the model "
      ]
    },
    {
      "cell_type": "code",
      "metadata": {
        "id": "TAKiQ2f9RinE",
        "colab_type": "code",
        "colab": {
          "base_uri": "https://localhost:8080/",
          "height": 153
        },
        "outputId": "3f55fa55-635f-4ba4-9471-fc35756ea1f7"
      },
      "source": [
        "print(\"The R Square of the model is \" ,model.score(X_train,y_train))\n",
        "print(\"The Coefficient if Regression is/are\" ,model.coef_)\n",
        "print(\"The Intercept of the model is \" ,model.intercept_)\n",
        "\n"
      ],
      "execution_count": null,
      "outputs": [
        {
          "output_type": "stream",
          "text": [
            "The R Square of the model is  0.0005877138013623551\n",
            "The Coefficient if Regression is/are [[-1.96075115e-03 -1.38390910e-02  2.22905960e+12  2.22905960e+12\n",
            "   2.95771457e+11  2.95771457e+11  2.95771457e+11  2.95771457e+11\n",
            "   2.95771457e+11  2.95771457e+11  2.95771457e+11  2.95771457e+11\n",
            "   2.95771457e+11  2.95771457e+11  2.95771457e+11  2.95771457e+11\n",
            "   2.95771457e+11  2.95771457e+11  2.95771457e+11  2.95771457e+11\n",
            "   2.95771457e+11  2.95771457e+11]]\n",
            "The Intercept of the model is  [-2.52483105e+12]\n"
          ],
          "name": "stdout"
        }
      ]
    },
    {
      "cell_type": "markdown",
      "metadata": {
        "id": "D_RtpLEdRinG",
        "colab_type": "text"
      },
      "source": [
        "### Root square mean error "
      ]
    },
    {
      "cell_type": "code",
      "metadata": {
        "id": "nexXxyeWRinH",
        "colab_type": "code",
        "colab": {}
      },
      "source": [
        "from sklearn.metrics import mean_squared_error\n",
        "from math import sqrt\n",
        "\n",
        "rms = sqrt(mean_squared_error(y_test,y_pred))"
      ],
      "execution_count": null,
      "outputs": []
    },
    {
      "cell_type": "code",
      "metadata": {
        "id": "PCZTN3rARinJ",
        "colab_type": "code",
        "colab": {
          "base_uri": "https://localhost:8080/",
          "height": 34
        },
        "outputId": "58370f39-4533-4c69-c760-2e1bb5c0ade3"
      },
      "source": [
        "# Root squared mean error\n",
        "rms"
      ],
      "execution_count": null,
      "outputs": [
        {
          "output_type": "execute_result",
          "data": {
            "text/plain": [
              "2178.5790346739345"
            ]
          },
          "metadata": {
            "tags": []
          },
          "execution_count": 73
        }
      ]
    },
    {
      "cell_type": "markdown",
      "metadata": {
        "id": "hCfzZ1Z7RinL",
        "colab_type": "text"
      },
      "source": [
        "# Graph for linear regression model "
      ]
    },
    {
      "cell_type": "code",
      "metadata": {
        "id": "dfjcBsknRinM",
        "colab_type": "code",
        "colab": {
          "base_uri": "https://localhost:8080/",
          "height": 136
        },
        "outputId": "9544031a-4efe-423d-d4ef-55eb01ffbbb2"
      },
      "source": [
        "y_pred.columns = ['prediction']\n",
        "print(y_pred.head())\n",
        "print(y_pred.shape)"
      ],
      "execution_count": null,
      "outputs": [
        {
          "output_type": "stream",
          "text": [
            "   prediction\n",
            "0    0.009766\n",
            "1    0.023438\n",
            "2    0.001465\n",
            "3   -0.008301\n",
            "4    0.032715\n",
            "(129167, 1)\n"
          ],
          "name": "stdout"
        }
      ]
    },
    {
      "cell_type": "code",
      "metadata": {
        "id": "YH4kIdU3RinO",
        "colab_type": "code",
        "colab": {}
      },
      "source": [
        "df = pd.DataFrame()"
      ],
      "execution_count": null,
      "outputs": []
    },
    {
      "cell_type": "code",
      "metadata": {
        "id": "94qvE6PvRinQ",
        "colab_type": "code",
        "colab": {
          "base_uri": "https://localhost:8080/",
          "height": 34
        },
        "outputId": "1d8cc0f4-3ba9-44b3-f065-3f2c195d994d"
      },
      "source": [
        "y_pred.shape"
      ],
      "execution_count": null,
      "outputs": [
        {
          "output_type": "execute_result",
          "data": {
            "text/plain": [
              "(129167, 1)"
            ]
          },
          "metadata": {
            "tags": []
          },
          "execution_count": 76
        }
      ]
    },
    {
      "cell_type": "code",
      "metadata": {
        "id": "j48ggtfRRinS",
        "colab_type": "code",
        "colab": {
          "base_uri": "https://localhost:8080/",
          "height": 204
        },
        "outputId": "69bc56c4-b11d-49ab-d335-b785bc959aba"
      },
      "source": [
        "y_pred.head()"
      ],
      "execution_count": null,
      "outputs": [
        {
          "output_type": "execute_result",
          "data": {
            "text/html": [
              "<div>\n",
              "<style scoped>\n",
              "    .dataframe tbody tr th:only-of-type {\n",
              "        vertical-align: middle;\n",
              "    }\n",
              "\n",
              "    .dataframe tbody tr th {\n",
              "        vertical-align: top;\n",
              "    }\n",
              "\n",
              "    .dataframe thead th {\n",
              "        text-align: right;\n",
              "    }\n",
              "</style>\n",
              "<table border=\"1\" class=\"dataframe\">\n",
              "  <thead>\n",
              "    <tr style=\"text-align: right;\">\n",
              "      <th></th>\n",
              "      <th>prediction</th>\n",
              "    </tr>\n",
              "  </thead>\n",
              "  <tbody>\n",
              "    <tr>\n",
              "      <th>0</th>\n",
              "      <td>0.009766</td>\n",
              "    </tr>\n",
              "    <tr>\n",
              "      <th>1</th>\n",
              "      <td>0.023438</td>\n",
              "    </tr>\n",
              "    <tr>\n",
              "      <th>2</th>\n",
              "      <td>0.001465</td>\n",
              "    </tr>\n",
              "    <tr>\n",
              "      <th>3</th>\n",
              "      <td>-0.008301</td>\n",
              "    </tr>\n",
              "    <tr>\n",
              "      <th>4</th>\n",
              "      <td>0.032715</td>\n",
              "    </tr>\n",
              "  </tbody>\n",
              "</table>\n",
              "</div>"
            ],
            "text/plain": [
              "   prediction\n",
              "0    0.009766\n",
              "1    0.023438\n",
              "2    0.001465\n",
              "3   -0.008301\n",
              "4    0.032715"
            ]
          },
          "metadata": {
            "tags": []
          },
          "execution_count": 77
        }
      ]
    },
    {
      "cell_type": "code",
      "metadata": {
        "id": "aWRi-ny-RinU",
        "colab_type": "code",
        "colab": {
          "base_uri": "https://localhost:8080/",
          "height": 204
        },
        "outputId": "4e302823-8a1d-415e-d0cb-42a0cf730aa8"
      },
      "source": [
        "y_test = pd.DataFrame(y_test)\n",
        "y_test.head()"
      ],
      "execution_count": null,
      "outputs": [
        {
          "output_type": "execute_result",
          "data": {
            "text/html": [
              "<div>\n",
              "<style scoped>\n",
              "    .dataframe tbody tr th:only-of-type {\n",
              "        vertical-align: middle;\n",
              "    }\n",
              "\n",
              "    .dataframe tbody tr th {\n",
              "        vertical-align: top;\n",
              "    }\n",
              "\n",
              "    .dataframe thead th {\n",
              "        text-align: right;\n",
              "    }\n",
              "</style>\n",
              "<table border=\"1\" class=\"dataframe\">\n",
              "  <thead>\n",
              "    <tr style=\"text-align: right;\">\n",
              "      <th></th>\n",
              "      <th>Review</th>\n",
              "    </tr>\n",
              "  </thead>\n",
              "  <tbody>\n",
              "    <tr>\n",
              "      <th>245690</th>\n",
              "      <td>3000</td>\n",
              "    </tr>\n",
              "    <tr>\n",
              "      <th>158780</th>\n",
              "      <td>2333</td>\n",
              "    </tr>\n",
              "    <tr>\n",
              "      <th>625481</th>\n",
              "      <td>919</td>\n",
              "    </tr>\n",
              "    <tr>\n",
              "      <th>466377</th>\n",
              "      <td>3176</td>\n",
              "    </tr>\n",
              "    <tr>\n",
              "      <th>590829</th>\n",
              "      <td>123</td>\n",
              "    </tr>\n",
              "  </tbody>\n",
              "</table>\n",
              "</div>"
            ],
            "text/plain": [
              "        Review\n",
              "245690    3000\n",
              "158780    2333\n",
              "625481     919\n",
              "466377    3176\n",
              "590829     123"
            ]
          },
          "metadata": {
            "tags": []
          },
          "execution_count": 78
        }
      ]
    },
    {
      "cell_type": "code",
      "metadata": {
        "id": "PCvNlWqRRinW",
        "colab_type": "code",
        "colab": {}
      },
      "source": [
        "y_test.columns = ['Review']"
      ],
      "execution_count": null,
      "outputs": []
    },
    {
      "cell_type": "code",
      "metadata": {
        "id": "qLzTNTobRinX",
        "colab_type": "code",
        "colab": {
          "base_uri": "https://localhost:8080/",
          "height": 204
        },
        "outputId": "40cd40a6-e2ca-4cab-8c3c-9eebdb4a1bc4"
      },
      "source": [
        "y_test = y_test.reset_index()\n",
        "y_test.head()"
      ],
      "execution_count": null,
      "outputs": [
        {
          "output_type": "execute_result",
          "data": {
            "text/html": [
              "<div>\n",
              "<style scoped>\n",
              "    .dataframe tbody tr th:only-of-type {\n",
              "        vertical-align: middle;\n",
              "    }\n",
              "\n",
              "    .dataframe tbody tr th {\n",
              "        vertical-align: top;\n",
              "    }\n",
              "\n",
              "    .dataframe thead th {\n",
              "        text-align: right;\n",
              "    }\n",
              "</style>\n",
              "<table border=\"1\" class=\"dataframe\">\n",
              "  <thead>\n",
              "    <tr style=\"text-align: right;\">\n",
              "      <th></th>\n",
              "      <th>index</th>\n",
              "      <th>Review</th>\n",
              "    </tr>\n",
              "  </thead>\n",
              "  <tbody>\n",
              "    <tr>\n",
              "      <th>0</th>\n",
              "      <td>245690</td>\n",
              "      <td>3000</td>\n",
              "    </tr>\n",
              "    <tr>\n",
              "      <th>1</th>\n",
              "      <td>158780</td>\n",
              "      <td>2333</td>\n",
              "    </tr>\n",
              "    <tr>\n",
              "      <th>2</th>\n",
              "      <td>625481</td>\n",
              "      <td>919</td>\n",
              "    </tr>\n",
              "    <tr>\n",
              "      <th>3</th>\n",
              "      <td>466377</td>\n",
              "      <td>3176</td>\n",
              "    </tr>\n",
              "    <tr>\n",
              "      <th>4</th>\n",
              "      <td>590829</td>\n",
              "      <td>123</td>\n",
              "    </tr>\n",
              "  </tbody>\n",
              "</table>\n",
              "</div>"
            ],
            "text/plain": [
              "    index  Review\n",
              "0  245690    3000\n",
              "1  158780    2333\n",
              "2  625481     919\n",
              "3  466377    3176\n",
              "4  590829     123"
            ]
          },
          "metadata": {
            "tags": []
          },
          "execution_count": 80
        }
      ]
    },
    {
      "cell_type": "code",
      "metadata": {
        "id": "sxACcOdbRina",
        "colab_type": "code",
        "colab": {
          "base_uri": "https://localhost:8080/",
          "height": 136
        },
        "outputId": "46bfd322-2b39-44e4-9982-f0d835f23526"
      },
      "source": [
        "print(y_test.shape)\n",
        "print(y_test.head())\n"
      ],
      "execution_count": null,
      "outputs": [
        {
          "output_type": "stream",
          "text": [
            "(129167, 2)\n",
            "    index  Review\n",
            "0  245690    3000\n",
            "1  158780    2333\n",
            "2  625481     919\n",
            "3  466377    3176\n",
            "4  590829     123\n"
          ],
          "name": "stdout"
        }
      ]
    },
    {
      "cell_type": "code",
      "metadata": {
        "id": "fSYFJmSTRind",
        "colab_type": "code",
        "colab": {
          "base_uri": "https://localhost:8080/",
          "height": 204
        },
        "outputId": "007d6fed-c201-4100-ee24-69755971f5d0"
      },
      "source": [
        "df = pd.concat([y_test,y_pred],axis =1)\n",
        "df.head()\n"
      ],
      "execution_count": null,
      "outputs": [
        {
          "output_type": "execute_result",
          "data": {
            "text/html": [
              "<div>\n",
              "<style scoped>\n",
              "    .dataframe tbody tr th:only-of-type {\n",
              "        vertical-align: middle;\n",
              "    }\n",
              "\n",
              "    .dataframe tbody tr th {\n",
              "        vertical-align: top;\n",
              "    }\n",
              "\n",
              "    .dataframe thead th {\n",
              "        text-align: right;\n",
              "    }\n",
              "</style>\n",
              "<table border=\"1\" class=\"dataframe\">\n",
              "  <thead>\n",
              "    <tr style=\"text-align: right;\">\n",
              "      <th></th>\n",
              "      <th>index</th>\n",
              "      <th>Review</th>\n",
              "      <th>prediction</th>\n",
              "    </tr>\n",
              "  </thead>\n",
              "  <tbody>\n",
              "    <tr>\n",
              "      <th>0</th>\n",
              "      <td>245690</td>\n",
              "      <td>3000</td>\n",
              "      <td>0.009766</td>\n",
              "    </tr>\n",
              "    <tr>\n",
              "      <th>1</th>\n",
              "      <td>158780</td>\n",
              "      <td>2333</td>\n",
              "      <td>0.023438</td>\n",
              "    </tr>\n",
              "    <tr>\n",
              "      <th>2</th>\n",
              "      <td>625481</td>\n",
              "      <td>919</td>\n",
              "      <td>0.001465</td>\n",
              "    </tr>\n",
              "    <tr>\n",
              "      <th>3</th>\n",
              "      <td>466377</td>\n",
              "      <td>3176</td>\n",
              "      <td>-0.008301</td>\n",
              "    </tr>\n",
              "    <tr>\n",
              "      <th>4</th>\n",
              "      <td>590829</td>\n",
              "      <td>123</td>\n",
              "      <td>0.032715</td>\n",
              "    </tr>\n",
              "  </tbody>\n",
              "</table>\n",
              "</div>"
            ],
            "text/plain": [
              "    index  Review  prediction\n",
              "0  245690    3000    0.009766\n",
              "1  158780    2333    0.023438\n",
              "2  625481     919    0.001465\n",
              "3  466377    3176   -0.008301\n",
              "4  590829     123    0.032715"
            ]
          },
          "metadata": {
            "tags": []
          },
          "execution_count": 82
        }
      ]
    },
    {
      "cell_type": "code",
      "metadata": {
        "id": "rQV4qyOXRinf",
        "colab_type": "code",
        "colab": {}
      },
      "source": [
        "df = df.drop(['index'],axis =1)\n"
      ],
      "execution_count": null,
      "outputs": []
    },
    {
      "cell_type": "code",
      "metadata": {
        "id": "TrrpoI9aRini",
        "colab_type": "code",
        "colab": {
          "base_uri": "https://localhost:8080/",
          "height": 204
        },
        "outputId": "14918fa5-b42d-453d-c287-7d7a56c46610"
      },
      "source": [
        "df.head()"
      ],
      "execution_count": null,
      "outputs": [
        {
          "output_type": "execute_result",
          "data": {
            "text/html": [
              "<div>\n",
              "<style scoped>\n",
              "    .dataframe tbody tr th:only-of-type {\n",
              "        vertical-align: middle;\n",
              "    }\n",
              "\n",
              "    .dataframe tbody tr th {\n",
              "        vertical-align: top;\n",
              "    }\n",
              "\n",
              "    .dataframe thead th {\n",
              "        text-align: right;\n",
              "    }\n",
              "</style>\n",
              "<table border=\"1\" class=\"dataframe\">\n",
              "  <thead>\n",
              "    <tr style=\"text-align: right;\">\n",
              "      <th></th>\n",
              "      <th>Review</th>\n",
              "      <th>prediction</th>\n",
              "    </tr>\n",
              "  </thead>\n",
              "  <tbody>\n",
              "    <tr>\n",
              "      <th>0</th>\n",
              "      <td>3000</td>\n",
              "      <td>0.009766</td>\n",
              "    </tr>\n",
              "    <tr>\n",
              "      <th>1</th>\n",
              "      <td>2333</td>\n",
              "      <td>0.023438</td>\n",
              "    </tr>\n",
              "    <tr>\n",
              "      <th>2</th>\n",
              "      <td>919</td>\n",
              "      <td>0.001465</td>\n",
              "    </tr>\n",
              "    <tr>\n",
              "      <th>3</th>\n",
              "      <td>3176</td>\n",
              "      <td>-0.008301</td>\n",
              "    </tr>\n",
              "    <tr>\n",
              "      <th>4</th>\n",
              "      <td>123</td>\n",
              "      <td>0.032715</td>\n",
              "    </tr>\n",
              "  </tbody>\n",
              "</table>\n",
              "</div>"
            ],
            "text/plain": [
              "   Review  prediction\n",
              "0    3000    0.009766\n",
              "1    2333    0.023438\n",
              "2     919    0.001465\n",
              "3    3176   -0.008301\n",
              "4     123    0.032715"
            ]
          },
          "metadata": {
            "tags": []
          },
          "execution_count": 84
        }
      ]
    },
    {
      "cell_type": "markdown",
      "metadata": {
        "id": "9gTKxXkhRink",
        "colab_type": "text"
      },
      "source": [
        "## LInear Regression Plot"
      ]
    },
    {
      "cell_type": "code",
      "metadata": {
        "id": "oaeMef2cRink",
        "colab_type": "code",
        "colab": {
          "base_uri": "https://localhost:8080/",
          "height": 458
        },
        "outputId": "832666ec-c495-432e-d795-6b97f47d5421"
      },
      "source": [
        "sns.jointplot('Review','prediction',data = df,kind ='reg')\n"
      ],
      "execution_count": null,
      "outputs": [
        {
          "output_type": "execute_result",
          "data": {
            "text/plain": [
              "<seaborn.axisgrid.JointGrid at 0x7f49553e3f60>"
            ]
          },
          "metadata": {
            "tags": []
          },
          "execution_count": 85
        },
        {
          "output_type": "display_data",
          "data": {
            "image/png": "[encoded data removed]",
            "text/plain": [
              "<Figure size 432x432 with 3 Axes>"
            ]
          },
          "metadata": {
            "tags": [],
            "needs_background": "light"
          }
        }
      ]
    }
  ]
}